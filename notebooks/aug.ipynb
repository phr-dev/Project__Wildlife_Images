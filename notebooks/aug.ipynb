{
 "cells": [
  {
   "cell_type": "code",
   "execution_count": 4,
   "metadata": {},
   "outputs": [],
   "source": [
    "import cv2 as cv\n",
    "import matplotlib.pyplot as plt\n",
    "import os\n",
    "import glob\n",
    "import pandas as pd\n",
    "import numpy as np\n",
    "import sys\n",
    "from tensorflow import keras\n",
    "from tensorflow.keras.layers import Conv2D, MaxPooling2D, Dense, Flatten\n",
    "from sklearn.model_selection import train_test_split"
   ]
  },
  {
   "cell_type": "code",
   "execution_count": 5,
   "metadata": {},
   "outputs": [],
   "source": [
    "import pandas as pd\n",
    "train_labels = pd.read_csv('../data/train_labels.csv')\n",
    "train_features = pd.read_csv('../data/train_features.csv')\n",
    "\n",
    "train_merged = pd.merge(train_labels, train_features, on='id')\n",
    "train_merged_back = train_merged.copy()\n",
    "\n",
    "#print(train_merged.head())"
   ]
  },
  {
   "cell_type": "code",
   "execution_count": 6,
   "metadata": {},
   "outputs": [],
   "source": [
    "unique_sites = train_merged['site'].unique()\n",
    "\n",
    "temp_df = train_merged.groupby(\"site\").sum()\n",
    "temp_df.drop(\"id\", axis=1, inplace=True)\n",
    "temp_df.drop(\"filepath\", axis=1, inplace=True)\n",
    "#print(temp_df)\n",
    "total_sightings = temp_df.iloc[:, 1:].sum(axis=1).tolist()\n",
    "\n",
    "unique_sites = pd.DataFrame({\"site\": unique_sites, \"total_sightings\": total_sightings})\n",
    "\n",
    "unique_sites = unique_sites.sort_values(by=\"total_sightings\", ascending=False)\n",
    "\n",
    "#for site in unique_sites['site']:\n",
    "#    print(f'\"{site}\",', end='')\n",
    "\n",
    "\n"
   ]
  },
  {
   "cell_type": "code",
   "execution_count": 7,
   "metadata": {},
   "outputs": [],
   "source": [
    "def get_data(sites):\n",
    "    processing = train_merged_back.loc[train_merged_back['site'].isin(sites)]\n",
    "    print(processing.shape)\n",
    "    labels = processing.drop(['filepath', 'id', 'site'], axis=1)\n",
    "    images = []\n",
    "\n",
    "    for index, row in processing.iterrows():  \n",
    "        image_path = row['filepath']\n",
    "        image = cv.imread(os.path.join('../data/', image_path))\n",
    "        image = cv.resize(image, (960, 540))\n",
    "\n",
    "        images.append(image)\n",
    "        labels = labels.loc[labels.index.repeat(len(labels) + 1)].reset_index(drop=True)\n",
    "        labels.loc[len(labels)] = row \n",
    "\n",
    "        flipped_image = cv.flip(image.copy(), 0)\n",
    "        images.append(flipped_image)\n",
    "        labels = labels.loc[labels.index.repeat(len(labels) + 1)].reset_index(drop=True)\n",
    "        labels.loc[len(labels)] = row \n",
    "\n",
    "    images = np.array(images)\n",
    "    return images, labels"
   ]
  },
  {
   "cell_type": "code",
   "execution_count": 8,
   "metadata": {},
   "outputs": [
    {
     "ename": "",
     "evalue": "",
     "output_type": "error",
     "traceback": [
      "\u001b[1;31mThe Kernel crashed while executing code in the current cell or a previous cell. \n",
      "\u001b[1;31mPlease review the code in the cell(s) to identify a possible cause of the failure. \n",
      "\u001b[1;31mClick <a href='https://aka.ms/vscodeJupyterKernelCrash'>here</a> for more info. \n",
      "\u001b[1;31mView Jupyter <a href='command:jupyter.viewOutput'>log</a> for further details."
     ]
    }
   ],
   "source": [
    "bla = unique_sites[\"site\"].iloc[:10]\n",
    "test1, test2 = get_data(bla)\n",
    "#print(test2.head())\n",
    "print(test2.shape)"
   ]
  },
  {
   "cell_type": "code",
   "execution_count": null,
   "metadata": {},
   "outputs": [],
   "source": [
    "def train_model(images, label):\n",
    "    model = keras.Sequential([\n",
    "    Flatten(input_shape=(540, 960, 3)),\n",
    "    Dense(8, activation=\"softmax\")\n",
    "    ])\n",
    "\n",
    "    model.compile(optimizer=\"adam\", loss=\"categorical_crossentropy\", metrics=[\"accuracy\"])\n",
    "    model.fit(images, label, epochs=2, batch_size = 32)\n",
    "    return model"
   ]
  },
  {
   "cell_type": "code",
   "execution_count": null,
   "metadata": {},
   "outputs": [
    {
     "name": "stderr",
     "output_type": "stream",
     "text": [
      "/Users/riael/.pyenv/versions/3.11.3/lib/python3.11/site-packages/keras/src/layers/reshaping/flatten.py:37: UserWarning: Do not pass an `input_shape`/`input_dim` argument to a layer. When using Sequential models, prefer using an `Input(shape)` object as the first layer in the model instead.\n",
      "  super().__init__(**kwargs)\n"
     ]
    },
    {
     "name": "stdout",
     "output_type": "stream",
     "text": [
      "Epoch 1/2\n",
      "\u001b[1m30/30\u001b[0m \u001b[32m━━━━━━━━━━━━━━━━━━━━\u001b[0m\u001b[37m\u001b[0m \u001b[1m5s\u001b[0m 128ms/step - accuracy: 0.1851 - loss: 179914.8906\n",
      "Epoch 2/2\n",
      "\u001b[1m30/30\u001b[0m \u001b[32m━━━━━━━━━━━━━━━━━━━━\u001b[0m\u001b[37m\u001b[0m \u001b[1m4s\u001b[0m 136ms/step - accuracy: 0.4084 - loss: 47646.6367\n",
      "(374, 11)\n"
     ]
    }
   ],
   "source": [
    "model = train_model(test1, test2)\n",
    "test3, test4 = get_data([\"S0076\",\"S0110\",\"S0083\",\"S0047\"])"
   ]
  },
  {
   "cell_type": "code",
   "execution_count": null,
   "metadata": {},
   "outputs": [],
   "source": [
    "def print_accuracy(model, images, labels):\n",
    "    loss, acc = model.evaluate(images, labels)\n",
    "    print(f\"Model loss: {loss}, Model accuracy: {acc}\")\n"
   ]
  },
  {
   "cell_type": "code",
   "execution_count": null,
   "metadata": {},
   "outputs": [
    {
     "name": "stdout",
     "output_type": "stream",
     "text": [
      "\u001b[1m12/12\u001b[0m \u001b[32m━━━━━━━━━━━━━━━━━━━━\u001b[0m\u001b[37m\u001b[0m \u001b[1m1s\u001b[0m 34ms/step - accuracy: 0.2799 - loss: 34384.9727\n",
      "Model loss: 33434.953125, Model accuracy: 0.2967914342880249\n"
     ]
    }
   ],
   "source": [
    "print_accuracy(model, test3, test4)"
   ]
  }
 ],
 "metadata": {
  "kernelspec": {
   "display_name": "Python 3",
   "language": "python",
   "name": "python3"
  },
  "language_info": {
   "codemirror_mode": {
    "name": "ipython",
    "version": 3
   },
   "file_extension": ".py",
   "mimetype": "text/x-python",
   "name": "python",
   "nbconvert_exporter": "python",
   "pygments_lexer": "ipython3",
   "version": "3.11.3"
  }
 },
 "nbformat": 4,
 "nbformat_minor": 2
}
