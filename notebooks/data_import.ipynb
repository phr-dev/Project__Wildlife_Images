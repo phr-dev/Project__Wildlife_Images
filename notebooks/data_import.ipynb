{
 "cells": [
  {
   "cell_type": "code",
   "execution_count": 9,
   "metadata": {},
   "outputs": [],
   "source": [
    "import cv2 as cv\n",
    "import matplotlib.pyplot as plt\n",
    "import os\n",
    "import glob\n",
    "import pandas as pd\n"
   ]
  },
  {
   "cell_type": "code",
   "execution_count": 6,
   "metadata": {},
   "outputs": [],
   "source": [
    "import sys\n",
    "sys.path.append(\"../functions\")\n",
    "from preprocessing import import_image_files\n",
    "\n",
    "image_list = import_image_files(n_images=20)"
   ]
  },
  {
   "cell_type": "code",
   "execution_count": 7,
   "metadata": {},
   "outputs": [
    {
     "data": {
      "text/plain": [
       "20"
      ]
     },
     "execution_count": 7,
     "metadata": {},
     "output_type": "execute_result"
    }
   ],
   "source": [
    "shape_series = pd.Series([image.shape for image in image_list])\n",
    "ratios = [x/y for (y, x, _) in shape_series.unique()]"
   ]
  },
  {
   "cell_type": "code",
   "execution_count": 23,
   "metadata": {},
   "outputs": [],
   "source": [
    "df_train_features = pd.read_csv(\"../data/train_features.csv\")\n",
    "sites = df_train_features[\"site\"].unique()"
   ]
  },
  {
   "cell_type": "code",
   "execution_count": 24,
   "metadata": {},
   "outputs": [
    {
     "data": {
      "text/plain": [
       "array(['S0120', 'S0069', 'S0009', 'S0008', 'S0036', 'S0019', 'S0060',\n",
       "       'S0047', 'S0083', 'S0059', 'S0076', 'S0014', 'S0080', 'S0061',\n",
       "       'S0075', 'S0003', 'S0105', 'S0188', 'S0097', 'S0068', 'S0077',\n",
       "       'S0038', 'S0049', 'S0170', 'S0063', 'S0071', 'S0062', 'S0073',\n",
       "       'S0070', 'S0053', 'S0171', 'S0134', 'S0022', 'S0089', 'S0025',\n",
       "       'S0042', 'S0021', 'S0184', 'S0027', 'S0026', 'S0004', 'S0024',\n",
       "       'S0035', 'S0018', 'S0081', 'S0125', 'S0110', 'S0127', 'S0159',\n",
       "       'S0051', 'S0112', 'S0108', 'S0074', 'S0157', 'S0155', 'S0122',\n",
       "       'S0095', 'S0123', 'S0001', 'S0023', 'S0149', 'S0185', 'S0043',\n",
       "       'S0088', 'S0130', 'S0186', 'S0124', 'S0031', 'S0046', 'S0136',\n",
       "       'S0174', 'S0056', 'S0013', 'S0020', 'S0005', 'S0030', 'S0158',\n",
       "       'S0156', 'S0016', 'S0084', 'S0179', 'S0096', 'S0137', 'S0163',\n",
       "       'S0121', 'S0029', 'S0153', 'S0002', 'S0144', 'S0032', 'S0147',\n",
       "       'S0104', 'S0175', 'S0176', 'S0050', 'S0093', 'S0133', 'S0146',\n",
       "       'S0150', 'S0172', 'S0161', 'S0164', 'S0101', 'S0160', 'S0173',\n",
       "       'S0193', 'S0177', 'S0131', 'S0017', 'S0115', 'S0141', 'S0085',\n",
       "       'S0180', 'S0044', 'S0102', 'S0010', 'S0139', 'S0167', 'S0196',\n",
       "       'S0129', 'S0117', 'S0098', 'S0183', 'S0169', 'S0197', 'S0028',\n",
       "       'S0015', 'S0190', 'S0045', 'S0192', 'S0138', 'S0106', 'S0094',\n",
       "       'S0119', 'S0107', 'S0054', 'S0113', 'S0198', 'S0182', 'S0092',\n",
       "       'S0191', 'S0078', 'S0007', 'S0079', 'S0178', 'S0148', 'S0006',\n",
       "       'S0143'], dtype=object)"
      ]
     },
     "execution_count": 24,
     "metadata": {},
     "output_type": "execute_result"
    }
   ],
   "source": []
  },
  {
   "cell_type": "code",
   "execution_count": 43,
   "metadata": {},
   "outputs": [
    {
     "data": {
      "text/plain": [
       "(360, 640, 3)    371\n",
       "(335, 640, 3)     85\n",
       "Name: count, dtype: int64"
      ]
     },
     "execution_count": 43,
     "metadata": {},
     "output_type": "execute_result"
    }
   ],
   "source": [
    "example_images = df_train_features.groupby(\"site\").value_counts()[sites[4]].to_frame().reset_index()[\"filepath\"].to_list()\n",
    "shape_list = []\n",
    "for file in example_images:\n",
    "    file_path = \"../data/\" + file\n",
    "    img = cv.imread(file_path)\n",
    "    shape_list.append(img.shape)\n",
    "\n",
    "sls = pd.Series(shape_list)\n",
    "sls.value_counts()"
   ]
  },
  {
   "cell_type": "code",
   "execution_count": null,
   "metadata": {},
   "outputs": [],
   "source": []
  }
 ],
 "metadata": {
  "kernelspec": {
   "display_name": ".venv",
   "language": "python",
   "name": "python3"
  },
  "language_info": {
   "codemirror_mode": {
    "name": "ipython",
    "version": 3
   },
   "file_extension": ".py",
   "mimetype": "text/x-python",
   "name": "python",
   "nbconvert_exporter": "python",
   "pygments_lexer": "ipython3",
   "version": "3.11.3"
  }
 },
 "nbformat": 4,
 "nbformat_minor": 2
}
