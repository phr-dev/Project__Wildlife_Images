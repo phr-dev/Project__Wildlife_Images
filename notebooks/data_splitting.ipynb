{
 "cells": [
  {
   "cell_type": "markdown",
   "metadata": {},
   "source": [
    "# Generating train, validation and test sets with similar class label distributions"
   ]
  },
  {
   "cell_type": "markdown",
   "metadata": {},
   "source": [
    "## Module imports"
   ]
  },
  {
   "cell_type": "code",
   "execution_count": 1,
   "metadata": {},
   "outputs": [],
   "source": [
    "import sys\n",
    "import os\n",
    "import glob\n",
    "\n",
    "import numpy as np\n",
    "import pandas as pd\n",
    "\n",
    "import matplotlib.pyplot as plt\n",
    "import seaborn as sns\n",
    "# sns.set_theme()\n",
    "\n",
    "# cyberpunk theme\n",
    "import mplcyberpunk\n",
    "plt.style.use('cyberpunk')\n",
    "\n",
    "import numpy as np\n",
    "from scipy.stats import entropy\n",
    "\n",
    "from sklearn.model_selection import train_test_split\n",
    "\n",
    "\n",
    "# project-specific custom functions\n",
    "## export the path to custom modules\n",
    "sys.path.append(\"../functions\")\n",
    "## import functions\n",
    "from preprocessing import import_image_files, import_images_from_file_list\n",
    "\n",
    "# keras.clear_session() # clear the cache of model parameters"
   ]
  },
  {
   "cell_type": "markdown",
   "metadata": {},
   "source": [
    "## Data import"
   ]
  },
  {
   "cell_type": "code",
   "execution_count": 3,
   "metadata": {},
   "outputs": [],
   "source": [
    "dir_data_relative = \"../data/\"  # the relative directory path to all data files\n",
    "\n",
    "### label information\n",
    "df__labels = pd.read_csv(dir_data_relative+\"train_labels.csv\")"
   ]
  },
  {
   "cell_type": "code",
   "execution_count": 4,
   "metadata": {},
   "outputs": [],
   "source": [
    "# get the feature infos\n",
    "X_train__info = pd.read_csv(dir_data_relative+\"X_train__info.csv\")\n",
    "X_dev__info = pd.read_csv(dir_data_relative+\"X_dev__info.csv\")\n",
    "X_test__info = pd.read_csv(dir_data_relative+\"X_test__info.csv\")\n",
    "\n",
    "# load the labels\n",
    "y_train = pd.read_csv(dir_data_relative+\"y_train.csv\")\n",
    "y_dev = pd.read_csv(dir_data_relative+\"y_dev.csv\")\n",
    "y_test = pd.read_csv(dir_data_relative+\"y_test.csv\")"
   ]
  },
  {
   "cell_type": "code",
   "execution_count": 5,
   "metadata": {},
   "outputs": [],
   "source": [
    "X_data__info = pd.concat([X_train__info, X_dev__info, X_test__info], axis=0)\n",
    "y = pd.concat([y_train, y_dev, y_test], axis=0)"
   ]
  },
  {
   "cell_type": "code",
   "execution_count": 6,
   "metadata": {},
   "outputs": [
    {
     "data": {
      "text/html": [
       "<div>\n",
       "<style scoped>\n",
       "    .dataframe tbody tr th:only-of-type {\n",
       "        vertical-align: middle;\n",
       "    }\n",
       "\n",
       "    .dataframe tbody tr th {\n",
       "        vertical-align: top;\n",
       "    }\n",
       "\n",
       "    .dataframe thead th {\n",
       "        text-align: right;\n",
       "    }\n",
       "</style>\n",
       "<table border=\"1\" class=\"dataframe\">\n",
       "  <thead>\n",
       "    <tr style=\"text-align: right;\">\n",
       "      <th></th>\n",
       "      <th>id</th>\n",
       "      <th>filepath</th>\n",
       "      <th>site</th>\n",
       "      <th>shape</th>\n",
       "      <th>height</th>\n",
       "      <th>width</th>\n",
       "      <th>N_channels</th>\n",
       "      <th>aspect_ratio</th>\n",
       "    </tr>\n",
       "  </thead>\n",
       "  <tbody>\n",
       "    <tr>\n",
       "      <th>0</th>\n",
       "      <td>ZJ006691</td>\n",
       "      <td>train_features/ZJ006691.jpg</td>\n",
       "      <td>S0009</td>\n",
       "      <td>(335, 640, 3)</td>\n",
       "      <td>335</td>\n",
       "      <td>640</td>\n",
       "      <td>3</td>\n",
       "      <td>1.910448</td>\n",
       "    </tr>\n",
       "    <tr>\n",
       "      <th>1</th>\n",
       "      <td>ZJ000608</td>\n",
       "      <td>train_features/ZJ000608.jpg</td>\n",
       "      <td>S0060</td>\n",
       "      <td>(540, 960, 3)</td>\n",
       "      <td>540</td>\n",
       "      <td>960</td>\n",
       "      <td>3</td>\n",
       "      <td>1.777778</td>\n",
       "    </tr>\n",
       "    <tr>\n",
       "      <th>2</th>\n",
       "      <td>ZJ000059</td>\n",
       "      <td>train_features/ZJ000059.jpg</td>\n",
       "      <td>S0026</td>\n",
       "      <td>(360, 640, 3)</td>\n",
       "      <td>360</td>\n",
       "      <td>640</td>\n",
       "      <td>3</td>\n",
       "      <td>1.777778</td>\n",
       "    </tr>\n",
       "    <tr>\n",
       "      <th>3</th>\n",
       "      <td>ZJ001993</td>\n",
       "      <td>train_features/ZJ001993.jpg</td>\n",
       "      <td>S0170</td>\n",
       "      <td>(240, 360, 3)</td>\n",
       "      <td>240</td>\n",
       "      <td>360</td>\n",
       "      <td>3</td>\n",
       "      <td>1.500000</td>\n",
       "    </tr>\n",
       "    <tr>\n",
       "      <th>4</th>\n",
       "      <td>ZJ000762</td>\n",
       "      <td>train_features/ZJ000762.jpg</td>\n",
       "      <td>S0059</td>\n",
       "      <td>(540, 960, 3)</td>\n",
       "      <td>540</td>\n",
       "      <td>960</td>\n",
       "      <td>3</td>\n",
       "      <td>1.777778</td>\n",
       "    </tr>\n",
       "  </tbody>\n",
       "</table>\n",
       "</div>"
      ],
      "text/plain": [
       "         id                     filepath   site          shape  height  width   \n",
       "0  ZJ006691  train_features/ZJ006691.jpg  S0009  (335, 640, 3)     335    640  \\\n",
       "1  ZJ000608  train_features/ZJ000608.jpg  S0060  (540, 960, 3)     540    960   \n",
       "2  ZJ000059  train_features/ZJ000059.jpg  S0026  (360, 640, 3)     360    640   \n",
       "3  ZJ001993  train_features/ZJ001993.jpg  S0170  (240, 360, 3)     240    360   \n",
       "4  ZJ000762  train_features/ZJ000762.jpg  S0059  (540, 960, 3)     540    960   \n",
       "\n",
       "   N_channels  aspect_ratio  \n",
       "0           3      1.910448  \n",
       "1           3      1.777778  \n",
       "2           3      1.777778  \n",
       "3           3      1.500000  \n",
       "4           3      1.777778  "
      ]
     },
     "execution_count": 6,
     "metadata": {},
     "output_type": "execute_result"
    }
   ],
   "source": [
    "X_data__info.head()"
   ]
  },
  {
   "cell_type": "code",
   "execution_count": 7,
   "metadata": {},
   "outputs": [
    {
     "data": {
      "text/html": [
       "<div>\n",
       "<style scoped>\n",
       "    .dataframe tbody tr th:only-of-type {\n",
       "        vertical-align: middle;\n",
       "    }\n",
       "\n",
       "    .dataframe tbody tr th {\n",
       "        vertical-align: top;\n",
       "    }\n",
       "\n",
       "    .dataframe thead th {\n",
       "        text-align: right;\n",
       "    }\n",
       "</style>\n",
       "<table border=\"1\" class=\"dataframe\">\n",
       "  <thead>\n",
       "    <tr style=\"text-align: right;\">\n",
       "      <th></th>\n",
       "      <th>antelope_duiker</th>\n",
       "      <th>bird</th>\n",
       "      <th>blank</th>\n",
       "      <th>civet_genet</th>\n",
       "      <th>hog</th>\n",
       "      <th>leopard</th>\n",
       "      <th>monkey_prosimian</th>\n",
       "      <th>rodent</th>\n",
       "    </tr>\n",
       "  </thead>\n",
       "  <tbody>\n",
       "    <tr>\n",
       "      <th>0</th>\n",
       "      <td>0.0</td>\n",
       "      <td>0.0</td>\n",
       "      <td>0.0</td>\n",
       "      <td>0.0</td>\n",
       "      <td>1.0</td>\n",
       "      <td>0.0</td>\n",
       "      <td>0.0</td>\n",
       "      <td>0.0</td>\n",
       "    </tr>\n",
       "    <tr>\n",
       "      <th>1</th>\n",
       "      <td>0.0</td>\n",
       "      <td>0.0</td>\n",
       "      <td>0.0</td>\n",
       "      <td>1.0</td>\n",
       "      <td>0.0</td>\n",
       "      <td>0.0</td>\n",
       "      <td>0.0</td>\n",
       "      <td>0.0</td>\n",
       "    </tr>\n",
       "    <tr>\n",
       "      <th>2</th>\n",
       "      <td>0.0</td>\n",
       "      <td>0.0</td>\n",
       "      <td>0.0</td>\n",
       "      <td>0.0</td>\n",
       "      <td>0.0</td>\n",
       "      <td>0.0</td>\n",
       "      <td>1.0</td>\n",
       "      <td>0.0</td>\n",
       "    </tr>\n",
       "    <tr>\n",
       "      <th>3</th>\n",
       "      <td>1.0</td>\n",
       "      <td>0.0</td>\n",
       "      <td>0.0</td>\n",
       "      <td>0.0</td>\n",
       "      <td>0.0</td>\n",
       "      <td>0.0</td>\n",
       "      <td>0.0</td>\n",
       "      <td>0.0</td>\n",
       "    </tr>\n",
       "    <tr>\n",
       "      <th>4</th>\n",
       "      <td>0.0</td>\n",
       "      <td>0.0</td>\n",
       "      <td>0.0</td>\n",
       "      <td>0.0</td>\n",
       "      <td>0.0</td>\n",
       "      <td>0.0</td>\n",
       "      <td>0.0</td>\n",
       "      <td>1.0</td>\n",
       "    </tr>\n",
       "  </tbody>\n",
       "</table>\n",
       "</div>"
      ],
      "text/plain": [
       "   antelope_duiker  bird  blank  civet_genet  hog  leopard  monkey_prosimian   \n",
       "0              0.0   0.0    0.0          0.0  1.0      0.0               0.0  \\\n",
       "1              0.0   0.0    0.0          1.0  0.0      0.0               0.0   \n",
       "2              0.0   0.0    0.0          0.0  0.0      0.0               1.0   \n",
       "3              1.0   0.0    0.0          0.0  0.0      0.0               0.0   \n",
       "4              0.0   0.0    0.0          0.0  0.0      0.0               0.0   \n",
       "\n",
       "   rodent  \n",
       "0     0.0  \n",
       "1     0.0  \n",
       "2     0.0  \n",
       "3     0.0  \n",
       "4     1.0  "
      ]
     },
     "execution_count": 7,
     "metadata": {},
     "output_type": "execute_result"
    }
   ],
   "source": [
    "y.head()"
   ]
  },
  {
   "cell_type": "code",
   "execution_count": 8,
   "metadata": {},
   "outputs": [],
   "source": [
    "# animal_in_scene = y.drop(columns=\"id\")  # one-hot-encoded label\n",
    "# animal_in_scene.sum(axis=1).value_counts()  # check for unique values"
   ]
  },
  {
   "cell_type": "code",
   "execution_count": 9,
   "metadata": {},
   "outputs": [],
   "source": [
    "\n",
    "animal_label = pd.from_dummies(y.astype(int))[\"\"]\n",
    "animal_label.name = \"animal_label\""
   ]
  },
  {
   "cell_type": "code",
   "execution_count": 10,
   "metadata": {},
   "outputs": [
    {
     "data": {
      "text/html": [
       "<div>\n",
       "<style scoped>\n",
       "    .dataframe tbody tr th:only-of-type {\n",
       "        vertical-align: middle;\n",
       "    }\n",
       "\n",
       "    .dataframe tbody tr th {\n",
       "        vertical-align: top;\n",
       "    }\n",
       "\n",
       "    .dataframe thead th {\n",
       "        text-align: right;\n",
       "    }\n",
       "</style>\n",
       "<table border=\"1\" class=\"dataframe\">\n",
       "  <thead>\n",
       "    <tr style=\"text-align: right;\">\n",
       "      <th></th>\n",
       "      <th>antelope_duiker</th>\n",
       "      <th>bird</th>\n",
       "      <th>blank</th>\n",
       "      <th>civet_genet</th>\n",
       "      <th>hog</th>\n",
       "      <th>leopard</th>\n",
       "      <th>monkey_prosimian</th>\n",
       "      <th>rodent</th>\n",
       "      <th>animal_label</th>\n",
       "    </tr>\n",
       "  </thead>\n",
       "  <tbody>\n",
       "    <tr>\n",
       "      <th>0</th>\n",
       "      <td>0.0</td>\n",
       "      <td>0.0</td>\n",
       "      <td>0.0</td>\n",
       "      <td>0.0</td>\n",
       "      <td>1.0</td>\n",
       "      <td>0.0</td>\n",
       "      <td>0.0</td>\n",
       "      <td>0.0</td>\n",
       "      <td>hog</td>\n",
       "    </tr>\n",
       "    <tr>\n",
       "      <th>1</th>\n",
       "      <td>0.0</td>\n",
       "      <td>0.0</td>\n",
       "      <td>0.0</td>\n",
       "      <td>1.0</td>\n",
       "      <td>0.0</td>\n",
       "      <td>0.0</td>\n",
       "      <td>0.0</td>\n",
       "      <td>0.0</td>\n",
       "      <td>civet_genet</td>\n",
       "    </tr>\n",
       "    <tr>\n",
       "      <th>2</th>\n",
       "      <td>0.0</td>\n",
       "      <td>0.0</td>\n",
       "      <td>0.0</td>\n",
       "      <td>0.0</td>\n",
       "      <td>0.0</td>\n",
       "      <td>0.0</td>\n",
       "      <td>1.0</td>\n",
       "      <td>0.0</td>\n",
       "      <td>monkey_prosimian</td>\n",
       "    </tr>\n",
       "    <tr>\n",
       "      <th>3</th>\n",
       "      <td>1.0</td>\n",
       "      <td>0.0</td>\n",
       "      <td>0.0</td>\n",
       "      <td>0.0</td>\n",
       "      <td>0.0</td>\n",
       "      <td>0.0</td>\n",
       "      <td>0.0</td>\n",
       "      <td>0.0</td>\n",
       "      <td>antelope_duiker</td>\n",
       "    </tr>\n",
       "    <tr>\n",
       "      <th>4</th>\n",
       "      <td>0.0</td>\n",
       "      <td>0.0</td>\n",
       "      <td>0.0</td>\n",
       "      <td>0.0</td>\n",
       "      <td>0.0</td>\n",
       "      <td>0.0</td>\n",
       "      <td>0.0</td>\n",
       "      <td>1.0</td>\n",
       "      <td>rodent</td>\n",
       "    </tr>\n",
       "  </tbody>\n",
       "</table>\n",
       "</div>"
      ],
      "text/plain": [
       "   antelope_duiker  bird  blank  civet_genet  hog  leopard  monkey_prosimian   \n",
       "0              0.0   0.0    0.0          0.0  1.0      0.0               0.0  \\\n",
       "1              0.0   0.0    0.0          1.0  0.0      0.0               0.0   \n",
       "2              0.0   0.0    0.0          0.0  0.0      0.0               1.0   \n",
       "3              1.0   0.0    0.0          0.0  0.0      0.0               0.0   \n",
       "4              0.0   0.0    0.0          0.0  0.0      0.0               0.0   \n",
       "\n",
       "   rodent      animal_label  \n",
       "0     0.0               hog  \n",
       "1     0.0       civet_genet  \n",
       "2     0.0  monkey_prosimian  \n",
       "3     0.0   antelope_duiker  \n",
       "4     1.0            rodent  "
      ]
     },
     "execution_count": 10,
     "metadata": {},
     "output_type": "execute_result"
    }
   ],
   "source": [
    "y = pd.concat([y.reset_index(drop=True), animal_label.reset_index(drop=True)], axis=1)\n",
    "y.head()"
   ]
  },
  {
   "cell_type": "code",
   "execution_count": 11,
   "metadata": {},
   "outputs": [],
   "source": [
    "# concatenate all data (features and labels)\n",
    "df = pd.concat([X_data__info.reset_index(drop=True), y], axis=1)"
   ]
  },
  {
   "cell_type": "code",
   "execution_count": 12,
   "metadata": {},
   "outputs": [
    {
     "data": {
      "text/html": [
       "<div>\n",
       "<style scoped>\n",
       "    .dataframe tbody tr th:only-of-type {\n",
       "        vertical-align: middle;\n",
       "    }\n",
       "\n",
       "    .dataframe tbody tr th {\n",
       "        vertical-align: top;\n",
       "    }\n",
       "\n",
       "    .dataframe thead th {\n",
       "        text-align: right;\n",
       "    }\n",
       "</style>\n",
       "<table border=\"1\" class=\"dataframe\">\n",
       "  <thead>\n",
       "    <tr style=\"text-align: right;\">\n",
       "      <th></th>\n",
       "      <th>id</th>\n",
       "      <th>filepath</th>\n",
       "      <th>site</th>\n",
       "      <th>shape</th>\n",
       "      <th>height</th>\n",
       "      <th>width</th>\n",
       "      <th>N_channels</th>\n",
       "      <th>aspect_ratio</th>\n",
       "      <th>antelope_duiker</th>\n",
       "      <th>bird</th>\n",
       "      <th>blank</th>\n",
       "      <th>civet_genet</th>\n",
       "      <th>hog</th>\n",
       "      <th>leopard</th>\n",
       "      <th>monkey_prosimian</th>\n",
       "      <th>rodent</th>\n",
       "      <th>animal_label</th>\n",
       "    </tr>\n",
       "  </thead>\n",
       "  <tbody>\n",
       "    <tr>\n",
       "      <th>0</th>\n",
       "      <td>ZJ006691</td>\n",
       "      <td>train_features/ZJ006691.jpg</td>\n",
       "      <td>S0009</td>\n",
       "      <td>(335, 640, 3)</td>\n",
       "      <td>335</td>\n",
       "      <td>640</td>\n",
       "      <td>3</td>\n",
       "      <td>1.910448</td>\n",
       "      <td>0.0</td>\n",
       "      <td>0.0</td>\n",
       "      <td>0.0</td>\n",
       "      <td>0.0</td>\n",
       "      <td>1.0</td>\n",
       "      <td>0.0</td>\n",
       "      <td>0.0</td>\n",
       "      <td>0.0</td>\n",
       "      <td>hog</td>\n",
       "    </tr>\n",
       "    <tr>\n",
       "      <th>1</th>\n",
       "      <td>ZJ000608</td>\n",
       "      <td>train_features/ZJ000608.jpg</td>\n",
       "      <td>S0060</td>\n",
       "      <td>(540, 960, 3)</td>\n",
       "      <td>540</td>\n",
       "      <td>960</td>\n",
       "      <td>3</td>\n",
       "      <td>1.777778</td>\n",
       "      <td>0.0</td>\n",
       "      <td>0.0</td>\n",
       "      <td>0.0</td>\n",
       "      <td>1.0</td>\n",
       "      <td>0.0</td>\n",
       "      <td>0.0</td>\n",
       "      <td>0.0</td>\n",
       "      <td>0.0</td>\n",
       "      <td>civet_genet</td>\n",
       "    </tr>\n",
       "    <tr>\n",
       "      <th>2</th>\n",
       "      <td>ZJ000059</td>\n",
       "      <td>train_features/ZJ000059.jpg</td>\n",
       "      <td>S0026</td>\n",
       "      <td>(360, 640, 3)</td>\n",
       "      <td>360</td>\n",
       "      <td>640</td>\n",
       "      <td>3</td>\n",
       "      <td>1.777778</td>\n",
       "      <td>0.0</td>\n",
       "      <td>0.0</td>\n",
       "      <td>0.0</td>\n",
       "      <td>0.0</td>\n",
       "      <td>0.0</td>\n",
       "      <td>0.0</td>\n",
       "      <td>1.0</td>\n",
       "      <td>0.0</td>\n",
       "      <td>monkey_prosimian</td>\n",
       "    </tr>\n",
       "    <tr>\n",
       "      <th>3</th>\n",
       "      <td>ZJ001993</td>\n",
       "      <td>train_features/ZJ001993.jpg</td>\n",
       "      <td>S0170</td>\n",
       "      <td>(240, 360, 3)</td>\n",
       "      <td>240</td>\n",
       "      <td>360</td>\n",
       "      <td>3</td>\n",
       "      <td>1.500000</td>\n",
       "      <td>1.0</td>\n",
       "      <td>0.0</td>\n",
       "      <td>0.0</td>\n",
       "      <td>0.0</td>\n",
       "      <td>0.0</td>\n",
       "      <td>0.0</td>\n",
       "      <td>0.0</td>\n",
       "      <td>0.0</td>\n",
       "      <td>antelope_duiker</td>\n",
       "    </tr>\n",
       "    <tr>\n",
       "      <th>4</th>\n",
       "      <td>ZJ000762</td>\n",
       "      <td>train_features/ZJ000762.jpg</td>\n",
       "      <td>S0059</td>\n",
       "      <td>(540, 960, 3)</td>\n",
       "      <td>540</td>\n",
       "      <td>960</td>\n",
       "      <td>3</td>\n",
       "      <td>1.777778</td>\n",
       "      <td>0.0</td>\n",
       "      <td>0.0</td>\n",
       "      <td>0.0</td>\n",
       "      <td>0.0</td>\n",
       "      <td>0.0</td>\n",
       "      <td>0.0</td>\n",
       "      <td>0.0</td>\n",
       "      <td>1.0</td>\n",
       "      <td>rodent</td>\n",
       "    </tr>\n",
       "  </tbody>\n",
       "</table>\n",
       "</div>"
      ],
      "text/plain": [
       "         id                     filepath   site          shape  height  width   \n",
       "0  ZJ006691  train_features/ZJ006691.jpg  S0009  (335, 640, 3)     335    640  \\\n",
       "1  ZJ000608  train_features/ZJ000608.jpg  S0060  (540, 960, 3)     540    960   \n",
       "2  ZJ000059  train_features/ZJ000059.jpg  S0026  (360, 640, 3)     360    640   \n",
       "3  ZJ001993  train_features/ZJ001993.jpg  S0170  (240, 360, 3)     240    360   \n",
       "4  ZJ000762  train_features/ZJ000762.jpg  S0059  (540, 960, 3)     540    960   \n",
       "\n",
       "   N_channels  aspect_ratio  antelope_duiker  bird  blank  civet_genet  hog   \n",
       "0           3      1.910448              0.0   0.0    0.0          0.0  1.0  \\\n",
       "1           3      1.777778              0.0   0.0    0.0          1.0  0.0   \n",
       "2           3      1.777778              0.0   0.0    0.0          0.0  0.0   \n",
       "3           3      1.500000              1.0   0.0    0.0          0.0  0.0   \n",
       "4           3      1.777778              0.0   0.0    0.0          0.0  0.0   \n",
       "\n",
       "   leopard  monkey_prosimian  rodent      animal_label  \n",
       "0      0.0               0.0     0.0               hog  \n",
       "1      0.0               0.0     0.0       civet_genet  \n",
       "2      0.0               1.0     0.0  monkey_prosimian  \n",
       "3      0.0               0.0     0.0   antelope_duiker  \n",
       "4      0.0               0.0     1.0            rodent  "
      ]
     },
     "execution_count": 12,
     "metadata": {},
     "output_type": "execute_result"
    }
   ],
   "source": [
    "df.head()"
   ]
  },
  {
   "cell_type": "markdown",
   "metadata": {},
   "source": [
    "## EDA"
   ]
  },
  {
   "cell_type": "code",
   "execution_count": 13,
   "metadata": {},
   "outputs": [
    {
     "data": {
      "text/plain": [
       "site   animal_label    \n",
       "S0001  leopard             51\n",
       "       monkey_prosimian    17\n",
       "       bird                11\n",
       "       blank                6\n",
       "S0002  monkey_prosimian    68\n",
       "                           ..\n",
       "S0197  blank                4\n",
       "       antelope_duiker      3\n",
       "S0198  monkey_prosimian     8\n",
       "       blank                8\n",
       "       antelope_duiker      7\n",
       "Name: count, Length: 624, dtype: int64"
      ]
     },
     "execution_count": 13,
     "metadata": {},
     "output_type": "execute_result"
    }
   ],
   "source": [
    "# return animal label counts per site\n",
    "df.groupby(by=\"site\")[\"animal_label\"].value_counts()"
   ]
  },
  {
   "cell_type": "code",
   "execution_count": 14,
   "metadata": {},
   "outputs": [
    {
     "data": {
      "text/plain": [
       "148"
      ]
     },
     "execution_count": 14,
     "metadata": {},
     "output_type": "execute_result"
    }
   ],
   "source": [
    "# return the number of unique sites\n",
    "df.site.nunique()"
   ]
  },
  {
   "cell_type": "code",
   "execution_count": 15,
   "metadata": {},
   "outputs": [
    {
     "data": {
      "text/plain": [
       "<Axes: xlabel='site', ylabel='count'>"
      ]
     },
     "execution_count": 15,
     "metadata": {},
     "output_type": "execute_result"
    },
    {
     "data": {
      "image/png": "[encoded data removed]",
      "text/plain": [
       "<Figure size 640x480 with 1 Axes>"
      ]
     },
     "metadata": {},
     "output_type": "display_data"
    }
   ],
   "source": [
    "# plot animale distribution per site\n",
    "sns.countplot(data=df, x=\"site\", hue=\"animal_label\")"
   ]
  },
  {
   "cell_type": "code",
   "execution_count": 16,
   "metadata": {},
   "outputs": [
    {
     "data": {
      "text/plain": [
       "<Axes: xlabel='site'>"
      ]
     },
     "execution_count": 16,
     "metadata": {},
     "output_type": "execute_result"
    },
    {
     "data": {
      "image/png": "[encoded data removed]",
      "text/plain": [
       "<Figure size 2000x1000 with 1 Axes>"
      ]
     },
     "metadata": {},
     "output_type": "display_data"
    }
   ],
   "source": [
    "# plot the overall site distribution\n",
    "fig, ax = plt.subplots(1, 1, figsize=(20, 10))\n",
    "df[\"site\"].value_counts().sort_values().plot(kind=\"bar\", ax=ax)"
   ]
  },
  {
   "cell_type": "code",
   "execution_count": 17,
   "metadata": {},
   "outputs": [],
   "source": [
    "# # Plot animal distribution for each site\n",
    "\n",
    "# m = df.site.nunique()\n",
    "\n",
    "# for i, site in enumerate(df.site.unique()[:m]):\n",
    "#     fig, ax = plt.subplots(1, 1)\n",
    "#     sns.countplot(data=df[df[\"site\"]==site], x=\"site\", hue=\"animal_label\", ax=ax)"
   ]
  },
  {
   "cell_type": "code",
   "execution_count": 18,
   "metadata": {},
   "outputs": [
    {
     "data": {
      "text/plain": [
       "animal_label\n",
       "monkey_prosimian    2492\n",
       "antelope_duiker     2474\n",
       "civet_genet         2423\n",
       "leopard             2254\n",
       "blank               2213\n",
       "rodent              2013\n",
       "bird                1641\n",
       "hog                  978\n",
       "Name: count, dtype: int64"
      ]
     },
     "execution_count": 18,
     "metadata": {},
     "output_type": "execute_result"
    }
   ],
   "source": [
    "animal_label.value_counts()"
   ]
  },
  {
   "cell_type": "code",
   "execution_count": 19,
   "metadata": {},
   "outputs": [
    {
     "data": {
      "text/plain": [
       "array(['S0009', 'S0060', 'S0026', 'S0170', 'S0059', 'S0101', 'S0071',\n",
       "       'S0022', 'S0063', 'S0186', 'S0123', 'S0024', 'S0002', 'S0083',\n",
       "       'S0062', 'S0008', 'S0095', 'S0141', 'S0130', 'S0089', 'S0010',\n",
       "       'S0138', 'S0043', 'S0030', 'S0036', 'S0038', 'S0125', 'S0174',\n",
       "       'S0069', 'S0003', 'S0077', 'S0094', 'S0084', 'S0147', 'S0073',\n",
       "       'S0049', 'S0157', 'S0029', 'S0136', 'S0014', 'S0193', 'S0179',\n",
       "       'S0023', 'S0127', 'S0120', 'S0088', 'S0019', 'S0164', 'S0110',\n",
       "       'S0105', 'S0001', 'S0097', 'S0051', 'S0005', 'S0046', 'S0025',\n",
       "       'S0093', 'S0045', 'S0061', 'S0085', 'S0031', 'S0096', 'S0032',\n",
       "       'S0137', 'S0149', 'S0184', 'S0159', 'S0053', 'S0016', 'S0176',\n",
       "       'S0172', 'S0004', 'S0042', 'S0013', 'S0020', 'S0018', 'S0027',\n",
       "       'S0098', 'S0047', 'S0188', 'S0134', 'S0133', 'S0163', 'S0054',\n",
       "       'S0156', 'S0108', 'S0028', 'S0158', 'S0074', 'S0171', 'S0192',\n",
       "       'S0167', 'S0070', 'S0173', 'S0146', 'S0131', 'S0175', 'S0080',\n",
       "       'S0122', 'S0129', 'S0081', 'S0198', 'S0155', 'S0056', 'S0185',\n",
       "       'S0006', 'S0068', 'S0161', 'S0124', 'S0104', 'S0021', 'S0007',\n",
       "       'S0139', 'S0178', 'S0050', 'S0197', 'S0150', 'S0107', 'S0117',\n",
       "       'S0144', 'S0196', 'S0044', 'S0180', 'S0035', 'S0160', 'S0015',\n",
       "       'S0169', 'S0148', 'S0153', 'S0076', 'S0017', 'S0183', 'S0121',\n",
       "       'S0177', 'S0119', 'S0190', 'S0075', 'S0182', 'S0191', 'S0113',\n",
       "       'S0115', 'S0079', 'S0112', 'S0143', 'S0078', 'S0106', 'S0092',\n",
       "       'S0102'], dtype=object)"
      ]
     },
     "execution_count": 19,
     "metadata": {},
     "output_type": "execute_result"
    }
   ],
   "source": [
    "sites_unique = df.site.unique()\n",
    "N_sites_unique = sites_unique.shape[0]\n",
    "sites_unique"
   ]
  },
  {
   "cell_type": "code",
   "execution_count": 20,
   "metadata": {},
   "outputs": [
    {
     "name": "stdout",
     "output_type": "stream",
     "text": [
      "['S0170' 'S0063' 'S0045' 'S0101' 'S0098' 'S0007' 'S0019' 'S0004' 'S0089'\n",
      " 'S0150']\n",
      "(148,)\n"
     ]
    }
   ],
   "source": [
    "print(np.random.choice(sites_unique, size=10, replace=False))\n",
    "print(sites_unique.shape)"
   ]
  },
  {
   "cell_type": "markdown",
   "metadata": {},
   "source": [
    "## Generate similar animal distributions for dataset containing disjoint site sets via the Kullback-Leibler divergence"
   ]
  },
  {
   "cell_type": "markdown",
   "metadata": {},
   "source": [
    "### Generate the site lists"
   ]
  },
  {
   "cell_type": "code",
   "execution_count": 45,
   "metadata": {},
   "outputs": [],
   "source": [
    "# run N_run site distribution experiments and check for the lowest reached maximum pairwise entropy\n",
    "\n",
    "## initialize used lists\n",
    "entropies__test_train = []\n",
    "entropies__test_val = []\n",
    "entropies__val_train = []\n",
    "sites_KB_train = []\n",
    "sites_KB_val = []\n",
    "sites_KB_test = []\n",
    "\n",
    "## sset the number of runs\n",
    "N_runs = 1#10000\n",
    "\n",
    "for i in range(N_runs):\n",
    "\n",
    "    fraction_test = 0  # initilize variable storing the test set fraction\n",
    "    fraction_val = 0  # initilize variable storing the test set fraction\n",
    "    fraction_threshold = 0.1  # set the fraction threshold up to which sites are assigned to validation and test sets\n",
    "\n",
    "    # initialize lists for storing lists of sites assigned to the individual data sets\n",
    "    sites_train = sites_unique.copy().tolist()\n",
    "    sites_val = []\n",
    "    sites_test = []\n",
    "\n",
    "    N_data = df.shape[0]  # tota number of data instances\n",
    "\n",
    "    # Sampling the test set\n",
    "    while fraction_test<fraction_threshold:\n",
    "        # sample from sites (excluding previously sampled sites)\n",
    "        site_sample = np.random.choice(sites_train, size=1, replace=False)[0]\n",
    "        # print(f\"site sample: {site_sample}\")\n",
    "        sites_train.remove(site_sample)\n",
    "        # print(f\"sites_train: {sites_train}\")\n",
    "        # add corresponding data instances to the set\n",
    "        sites_test.append(site_sample)\n",
    "        # print(f\"sites_test: {sites_test}\")\n",
    "        # update fraction_test\n",
    "        N_test = df.query(\"site in @sites_test\").shape[0]  # Number of data instance in the current test set\n",
    "        fraction_test = N_test/N_data\n",
    "    \n",
    "    ## Sampling the test set\n",
    "    while fraction_val<fraction_threshold:\n",
    "        # sample from sites (excluding previously sampled sites)\n",
    "        site_sample = np.random.choice(sites_train, size=1, replace=False)[0]\n",
    "        # print(f\"site sample: {site_sample}\")\n",
    "        sites_train.remove(site_sample)\n",
    "        # print(f\"sites_train: {sites_train}\")\n",
    "        # add corresponding data instances to the set\n",
    "        sites_val.append(site_sample)\n",
    "        # print(f\"sites_test: {sites_test}\")\n",
    "        # update fraction_val\n",
    "        N_val = df.query(\"site in @sites_val\").shape[0]  # Number of data instance in the current validation set\n",
    "        fraction_val = N_val/N_data\n",
    "\n",
    "    sites_train = np.array(sites_train)\n",
    "    sites_val = np.array(sites_val)\n",
    "    sites_test = np.array(sites_test)\n",
    "\n",
    "\n",
    "    ## create the actual data sets from the generated site attribution lists\n",
    "    X_train = df.query(\"site in @sites_train\")\n",
    "    X_val = df.query(\"site in @sites_val\")\n",
    "    X_test = df.query(\"site in @sites_test\")\n",
    "\n",
    "    ## generate the distributions by summing the one-hot encoded categorical data along the columns\n",
    "    dist_train = X_train.iloc[:, 8:-1].sum(axis=0).to_numpy()\n",
    "    dist_val = X_val.iloc[:, 8:-1].sum(axis=0).to_numpy()\n",
    "    dist_test = X_test.iloc[:, 8:-1].sum(axis=0).to_numpy()\n",
    "\n",
    "    ## normalize the distributions (actually not necessary, because the entropy function does in internally)\n",
    "    dist_train_normalized = dist_train/dist_train.sum()\n",
    "    dist_val_normalized = dist_val/dist_val.sum()\n",
    "    dist_test_normalized = dist_test/dist_test.sum()\n",
    "\n",
    "    ## calculate the pairwise entropies for all data set pairs\n",
    "    entropy_temp__test_train = entropy(dist_test_normalized, dist_train_normalized, axis=0)\n",
    "    entropy_temp__test_val = entropy(dist_test_normalized, dist_val_normalized, axis=0)\n",
    "    entropy_temp__val_train = entropy(dist_val_normalized, dist_train_normalized, axis=0)\n",
    "\n",
    "    ## append the calculated entropies to the corresponding lists\n",
    "    entropies__test_train.append(entropy_temp__test_train)\n",
    "    entropies__test_val.append(entropy_temp__test_val)\n",
    "    entropies__val_train.append(entropy_temp__val_train)\n",
    "\n",
    "    ## appenc the soccresponding sites to the lists\n",
    "    sites_KB_train.append(sites_train)\n",
    "    sites_KB_val.append(sites_val)\n",
    "    sites_KB_test.append(sites_test)\n"
   ]
  },
  {
   "cell_type": "code",
   "execution_count": 28,
   "metadata": {},
   "outputs": [
    {
     "name": "stdout",
     "output_type": "stream",
     "text": [
      "Train set fraction: 0.7966\n",
      "Test set fraction: 0.1002\n",
      "Validation set fraction: 0.1032\n"
     ]
    }
   ],
   "source": [
    "# check the dataset fractions\n",
    "print(f\"Train set fraction: {X_train.shape[0]/N_data:.4f}\")\n",
    "print(f\"Test set fraction: {fraction_test:.4f}\")\n",
    "print(f\"Validation set fraction: {fraction_val:.4f}\")"
   ]
  },
  {
   "cell_type": "code",
   "execution_count": 47,
   "metadata": {},
   "outputs": [],
   "source": [
    "# extract the site combinations with minimum maximum entropy\n",
    "max_entropies = []\n",
    "for tup in zip(entropies__test_train, entropies__test_val, entropies__val_train):\n",
    "    # print(tup)\n",
    "    max_entropies.append(max(tup))\n",
    "\n",
    "idx_min_max_entropy = np.argmin(max_entropies)\n",
    "\n",
    "sites_KB_train__min_entropy = sites_KB_train[idx_min_max_entropy]\n",
    "sites_KB_val__min_entropy = sites_KB_val[idx_min_max_entropy]\n",
    "sites_KB_test__min_entropy = sites_KB_test[idx_min_max_entropy]"
   ]
  },
  {
   "cell_type": "code",
   "execution_count": 48,
   "metadata": {},
   "outputs": [
    {
     "name": "stdout",
     "output_type": "stream",
     "text": [
      "Minimum maximum entropy: 0.27063794447205064\n"
     ]
    }
   ],
   "source": [
    "print(\"Minimum maximum entropy:\", max_entropies[idx_min_max_entropy])"
   ]
  },
  {
   "cell_type": "code",
   "execution_count": 49,
   "metadata": {},
   "outputs": [
    {
     "data": {
      "image/png": "[encoded data removed]",
      "text/plain": [
       "<Figure size 1500x1000 with 3 Axes>"
      ]
     },
     "metadata": {},
     "output_type": "display_data"
    }
   ],
   "source": [
    "fig, ax = plt.subplots(3, 1, figsize=(15, 10), sharex=True)\n",
    "\n",
    "sns.countplot(data=df.query(\"site in @sites_KB_train__min_entropy\").sort_values(by='animal_label'), x=\"animal_label\", ax=ax[0])\n",
    "sns.countplot(data=df.query(\"site in @sites_KB_val__min_entropy\").sort_values(by='animal_label'), x=\"animal_label\", ax=ax[1])\n",
    "sns.countplot(data=df.query(\"site in @sites_KB_test__min_entropy\").sort_values(by='animal_label'), x=\"animal_label\", ax=ax[2])\n",
    "\n",
    "ax[0].set(title=\"Train data\",\n",
    "          xlabel=\"\",\n",
    "          ylabel=\"Count\")\n",
    "ax[1].set(title=\"Validation data\",\n",
    "          xlabel=\"\",\n",
    "          ylabel=\"Count\")\n",
    "ax[2].set(title=\"Test data\",\n",
    "          xlabel=\"Animal\",\n",
    "          ylabel=\"Count\")\n",
    "\n",
    "fig.tight_layout()"
   ]
  },
  {
   "cell_type": "markdown",
   "metadata": {},
   "source": [
    "### Generate and store the data set lists"
   ]
  },
  {
   "cell_type": "code",
   "execution_count": null,
   "metadata": {},
   "outputs": [],
   "source": []
  },
  {
   "cell_type": "markdown",
   "metadata": {},
   "source": [
    "# Implement functions for simple loading of all data sets"
   ]
  }
 ],
 "metadata": {
  "kernelspec": {
   "display_name": ".venv",
   "language": "python",
   "name": "python3"
  },
  "language_info": {
   "codemirror_mode": {
    "name": "ipython",
    "version": 3
   },
   "file_extension": ".py",
   "mimetype": "text/x-python",
   "name": "python",
   "nbconvert_exporter": "python",
   "pygments_lexer": "ipython3",
   "version": "3.11.3"
  }
 },
 "nbformat": 4,
 "nbformat_minor": 2
}
