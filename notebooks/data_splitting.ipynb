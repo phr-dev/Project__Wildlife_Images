{
 "cells": [
  {
   "cell_type": "markdown",
   "metadata": {},
   "source": [
    "# Generating train, validation and test sets with similar class label distributions"
   ]
  },
  {
   "cell_type": "markdown",
   "metadata": {},
   "source": [
    "## Module imports"
   ]
  },
  {
   "cell_type": "code",
   "execution_count": 19,
   "metadata": {},
   "outputs": [],
   "source": [
    "import sys\n",
    "import os\n",
    "import glob\n",
    "\n",
    "import numpy as np\n",
    "import pandas as pd\n",
    "\n",
    "import matplotlib.pyplot as plt\n",
    "import seaborn as sns\n",
    "# sns.set_theme()\n",
    "\n",
    "# cyberpunk theme\n",
    "#import mplcyberpunk\n",
    "#plt.style.use('cyberpunk')\n",
    "\n",
    "import numpy as np\n",
    "from scipy.stats import entropy\n",
    "\n",
    "from sklearn.model_selection import train_test_split\n",
    "\n",
    "\n",
    "# project-specific custom functions\n",
    "## export the path to custom modules\n",
    "sys.path.append(\"../functions\")\n",
    "## import functions\n",
    "def import_image_files(n_images=16488):\n",
    "    if os.name == \"nt\":\n",
    "        img_files = glob.glob(\"..\\\\data\\\\train_features\\\\*.jpg\")\n",
    "    else:\n",
    "        img_files = glob.glob(\"../data/train_features/*.jpg\")\n",
    "    image_list = []\n",
    "    for file in img_files[0:n_images]:\n",
    "        image_list.append(cv.imread(file))\n",
    "    return image_list\n",
    "\n",
    "def import_images_from_file_list(file_list):\n",
    "    image_list = []\n",
    "    for file in file_list:\n",
    "        image_list.append(cv.imread(file))\n",
    "    return image_list"
   ]
  },
  {
   "cell_type": "markdown",
   "metadata": {},
   "source": [
    "## Data import"
   ]
  },
  {
   "cell_type": "code",
   "execution_count": 20,
   "metadata": {},
   "outputs": [],
   "source": [
    "dir_data_relative = \"../data/\"  # the relative directory path to all data files\n",
    "\n",
    "### label information\n",
    "df__labels = pd.read_csv(dir_data_relative+\"train_labels.csv\")"
   ]
  },
  {
   "cell_type": "code",
   "execution_count": 21,
   "metadata": {},
   "outputs": [
    {
     "data": {
      "text/html": [
       "<div>\n",
       "<style scoped>\n",
       "    .dataframe tbody tr th:only-of-type {\n",
       "        vertical-align: middle;\n",
       "    }\n",
       "\n",
       "    .dataframe tbody tr th {\n",
       "        vertical-align: top;\n",
       "    }\n",
       "\n",
       "    .dataframe thead th {\n",
       "        text-align: right;\n",
       "    }\n",
       "</style>\n",
       "<table border=\"1\" class=\"dataframe\">\n",
       "  <thead>\n",
       "    <tr style=\"text-align: right;\">\n",
       "      <th></th>\n",
       "      <th>id</th>\n",
       "      <th>filepath</th>\n",
       "      <th>site</th>\n",
       "      <th>shape</th>\n",
       "      <th>height</th>\n",
       "      <th>width</th>\n",
       "      <th>N_channels</th>\n",
       "      <th>aspect_ratio</th>\n",
       "      <th>animal_label</th>\n",
       "      <th>antelope_duiker</th>\n",
       "      <th>bird</th>\n",
       "      <th>blank</th>\n",
       "      <th>civet_genet</th>\n",
       "      <th>hog</th>\n",
       "      <th>leopard</th>\n",
       "      <th>monkey_prosimian</th>\n",
       "      <th>rodent</th>\n",
       "    </tr>\n",
       "  </thead>\n",
       "  <tbody>\n",
       "    <tr>\n",
       "      <th>0</th>\n",
       "      <td>ZJ000000</td>\n",
       "      <td>train_features/ZJ000000.jpg</td>\n",
       "      <td>S0120</td>\n",
       "      <td>(540, 960, 3)</td>\n",
       "      <td>540</td>\n",
       "      <td>960</td>\n",
       "      <td>3</td>\n",
       "      <td>1.777778</td>\n",
       "      <td>bird</td>\n",
       "      <td>0.0</td>\n",
       "      <td>1.0</td>\n",
       "      <td>0.0</td>\n",
       "      <td>0.0</td>\n",
       "      <td>0.0</td>\n",
       "      <td>0.0</td>\n",
       "      <td>0.0</td>\n",
       "      <td>0.0</td>\n",
       "    </tr>\n",
       "    <tr>\n",
       "      <th>1</th>\n",
       "      <td>ZJ000001</td>\n",
       "      <td>train_features/ZJ000001.jpg</td>\n",
       "      <td>S0069</td>\n",
       "      <td>(540, 960, 3)</td>\n",
       "      <td>540</td>\n",
       "      <td>960</td>\n",
       "      <td>3</td>\n",
       "      <td>1.777778</td>\n",
       "      <td>monkey_prosimian</td>\n",
       "      <td>0.0</td>\n",
       "      <td>0.0</td>\n",
       "      <td>0.0</td>\n",
       "      <td>0.0</td>\n",
       "      <td>0.0</td>\n",
       "      <td>0.0</td>\n",
       "      <td>1.0</td>\n",
       "      <td>0.0</td>\n",
       "    </tr>\n",
       "    <tr>\n",
       "      <th>2</th>\n",
       "      <td>ZJ000002</td>\n",
       "      <td>train_features/ZJ000002.jpg</td>\n",
       "      <td>S0009</td>\n",
       "      <td>(360, 640, 3)</td>\n",
       "      <td>360</td>\n",
       "      <td>640</td>\n",
       "      <td>3</td>\n",
       "      <td>1.777778</td>\n",
       "      <td>bird</td>\n",
       "      <td>0.0</td>\n",
       "      <td>1.0</td>\n",
       "      <td>0.0</td>\n",
       "      <td>0.0</td>\n",
       "      <td>0.0</td>\n",
       "      <td>0.0</td>\n",
       "      <td>0.0</td>\n",
       "      <td>0.0</td>\n",
       "    </tr>\n",
       "    <tr>\n",
       "      <th>3</th>\n",
       "      <td>ZJ000003</td>\n",
       "      <td>train_features/ZJ000003.jpg</td>\n",
       "      <td>S0008</td>\n",
       "      <td>(360, 640, 3)</td>\n",
       "      <td>360</td>\n",
       "      <td>640</td>\n",
       "      <td>3</td>\n",
       "      <td>1.777778</td>\n",
       "      <td>monkey_prosimian</td>\n",
       "      <td>0.0</td>\n",
       "      <td>0.0</td>\n",
       "      <td>0.0</td>\n",
       "      <td>0.0</td>\n",
       "      <td>0.0</td>\n",
       "      <td>0.0</td>\n",
       "      <td>1.0</td>\n",
       "      <td>0.0</td>\n",
       "    </tr>\n",
       "    <tr>\n",
       "      <th>4</th>\n",
       "      <td>ZJ000004</td>\n",
       "      <td>train_features/ZJ000004.jpg</td>\n",
       "      <td>S0036</td>\n",
       "      <td>(335, 640, 3)</td>\n",
       "      <td>335</td>\n",
       "      <td>640</td>\n",
       "      <td>3</td>\n",
       "      <td>1.910448</td>\n",
       "      <td>leopard</td>\n",
       "      <td>0.0</td>\n",
       "      <td>0.0</td>\n",
       "      <td>0.0</td>\n",
       "      <td>0.0</td>\n",
       "      <td>0.0</td>\n",
       "      <td>1.0</td>\n",
       "      <td>0.0</td>\n",
       "      <td>0.0</td>\n",
       "    </tr>\n",
       "  </tbody>\n",
       "</table>\n",
       "</div>"
      ],
      "text/plain": [
       "         id                     filepath   site          shape  height  width   \n",
       "0  ZJ000000  train_features/ZJ000000.jpg  S0120  (540, 960, 3)     540    960  \\\n",
       "1  ZJ000001  train_features/ZJ000001.jpg  S0069  (540, 960, 3)     540    960   \n",
       "2  ZJ000002  train_features/ZJ000002.jpg  S0009  (360, 640, 3)     360    640   \n",
       "3  ZJ000003  train_features/ZJ000003.jpg  S0008  (360, 640, 3)     360    640   \n",
       "4  ZJ000004  train_features/ZJ000004.jpg  S0036  (335, 640, 3)     335    640   \n",
       "\n",
       "   N_channels  aspect_ratio      animal_label  antelope_duiker  bird  blank   \n",
       "0           3      1.777778              bird              0.0   1.0    0.0  \\\n",
       "1           3      1.777778  monkey_prosimian              0.0   0.0    0.0   \n",
       "2           3      1.777778              bird              0.0   1.0    0.0   \n",
       "3           3      1.777778  monkey_prosimian              0.0   0.0    0.0   \n",
       "4           3      1.910448           leopard              0.0   0.0    0.0   \n",
       "\n",
       "   civet_genet  hog  leopard  monkey_prosimian  rodent  \n",
       "0          0.0  0.0      0.0               0.0     0.0  \n",
       "1          0.0  0.0      0.0               1.0     0.0  \n",
       "2          0.0  0.0      0.0               0.0     0.0  \n",
       "3          0.0  0.0      0.0               1.0     0.0  \n",
       "4          0.0  0.0      1.0               0.0     0.0  "
      ]
     },
     "execution_count": 21,
     "metadata": {},
     "output_type": "execute_result"
    }
   ],
   "source": [
    "# read data from single file\n",
    "df = pd.read_csv(dir_data_relative+\"data_info__all.csv\")\n",
    "df.head()"
   ]
  },
  {
   "cell_type": "markdown",
   "metadata": {},
   "source": [
    "## EDA"
   ]
  },
  {
   "cell_type": "code",
   "execution_count": 22,
   "metadata": {},
   "outputs": [
    {
     "data": {
      "text/plain": [
       "site   animal_label    \n",
       "S0001  leopard             51\n",
       "       monkey_prosimian    17\n",
       "       bird                11\n",
       "       blank                6\n",
       "S0002  monkey_prosimian    68\n",
       "                           ..\n",
       "S0197  blank                4\n",
       "       antelope_duiker      3\n",
       "S0198  monkey_prosimian     8\n",
       "       blank                8\n",
       "       antelope_duiker      7\n",
       "Name: count, Length: 624, dtype: int64"
      ]
     },
     "execution_count": 22,
     "metadata": {},
     "output_type": "execute_result"
    }
   ],
   "source": [
    "# return animal label counts per site\n",
    "df.groupby(by=\"site\")[\"animal_label\"].value_counts()"
   ]
  },
  {
   "cell_type": "code",
   "execution_count": 23,
   "metadata": {},
   "outputs": [
    {
     "data": {
      "text/plain": [
       "148"
      ]
     },
     "execution_count": 23,
     "metadata": {},
     "output_type": "execute_result"
    }
   ],
   "source": [
    "# return the number of unique sites\n",
    "df.site.nunique()"
   ]
  },
  {
   "cell_type": "code",
   "execution_count": 24,
   "metadata": {},
   "outputs": [],
   "source": [
    "# plot animal distribution per site\n",
    "# sns.countplot(data=df, x=\"site\", hue=\"animal_label\")"
   ]
  },
  {
   "cell_type": "code",
   "execution_count": 25,
   "metadata": {},
   "outputs": [
    {
     "data": {
      "text/plain": [
       "<Axes: xlabel='site'>"
      ]
     },
     "execution_count": 25,
     "metadata": {},
     "output_type": "execute_result"
    },
    {
     "data": {
      "image/png": "[encoded data removed]",
      "text/plain": [
       "<Figure size 2000x1000 with 1 Axes>"
      ]
     },
     "metadata": {},
     "output_type": "display_data"
    }
   ],
   "source": [
    "# plot the overall site distribution\n",
    "fig, ax = plt.subplots(1, 1, figsize=(20, 10))\n",
    "df[\"site\"].value_counts().sort_values().plot(kind=\"bar\", ax=ax)"
   ]
  },
  {
   "cell_type": "code",
   "execution_count": 26,
   "metadata": {},
   "outputs": [],
   "source": [
    "# # Plot animal distribution for each site\n",
    "\n",
    "# m = df.site.nunique()\n",
    "\n",
    "# for i, site in enumerate(df.site.unique()[:m]):\n",
    "#     fig, ax = plt.subplots(1, 1)\n",
    "#     sns.countplot(data=df[df[\"site\"]==site], x=\"site\", hue=\"animal_label\", ax=ax)"
   ]
  },
  {
   "cell_type": "code",
   "execution_count": 27,
   "metadata": {},
   "outputs": [
    {
     "data": {
      "text/plain": [
       "animal_label\n",
       "monkey_prosimian    2492\n",
       "antelope_duiker     2474\n",
       "civet_genet         2423\n",
       "leopard             2254\n",
       "blank               2213\n",
       "rodent              2013\n",
       "bird                1641\n",
       "hog                  978\n",
       "Name: count, dtype: int64"
      ]
     },
     "execution_count": 27,
     "metadata": {},
     "output_type": "execute_result"
    }
   ],
   "source": [
    "df.animal_label.value_counts()"
   ]
  },
  {
   "cell_type": "code",
   "execution_count": 28,
   "metadata": {},
   "outputs": [
    {
     "data": {
      "text/plain": [
       "array(['S0120', 'S0069', 'S0009', 'S0008', 'S0036', 'S0019', 'S0060',\n",
       "       'S0047', 'S0083', 'S0059', 'S0076', 'S0014', 'S0080', 'S0061',\n",
       "       'S0075', 'S0003', 'S0105', 'S0188', 'S0097', 'S0068', 'S0077',\n",
       "       'S0038', 'S0049', 'S0170', 'S0063', 'S0071', 'S0062', 'S0073',\n",
       "       'S0070', 'S0053', 'S0171', 'S0134', 'S0022', 'S0089', 'S0025',\n",
       "       'S0042', 'S0021', 'S0184', 'S0027', 'S0026', 'S0004', 'S0024',\n",
       "       'S0035', 'S0018', 'S0081', 'S0125', 'S0110', 'S0127', 'S0159',\n",
       "       'S0051', 'S0112', 'S0108', 'S0074', 'S0157', 'S0155', 'S0122',\n",
       "       'S0095', 'S0123', 'S0001', 'S0023', 'S0149', 'S0185', 'S0043',\n",
       "       'S0088', 'S0130', 'S0186', 'S0124', 'S0031', 'S0046', 'S0136',\n",
       "       'S0174', 'S0056', 'S0013', 'S0020', 'S0005', 'S0030', 'S0158',\n",
       "       'S0156', 'S0016', 'S0084', 'S0179', 'S0096', 'S0137', 'S0163',\n",
       "       'S0121', 'S0029', 'S0153', 'S0002', 'S0144', 'S0032', 'S0147',\n",
       "       'S0104', 'S0175', 'S0176', 'S0050', 'S0093', 'S0133', 'S0146',\n",
       "       'S0150', 'S0172', 'S0161', 'S0164', 'S0101', 'S0160', 'S0173',\n",
       "       'S0193', 'S0177', 'S0131', 'S0017', 'S0115', 'S0141', 'S0085',\n",
       "       'S0180', 'S0044', 'S0102', 'S0010', 'S0139', 'S0167', 'S0196',\n",
       "       'S0129', 'S0117', 'S0098', 'S0183', 'S0169', 'S0197', 'S0028',\n",
       "       'S0015', 'S0190', 'S0045', 'S0192', 'S0138', 'S0106', 'S0094',\n",
       "       'S0119', 'S0107', 'S0054', 'S0113', 'S0198', 'S0182', 'S0092',\n",
       "       'S0191', 'S0078', 'S0007', 'S0079', 'S0178', 'S0148', 'S0006',\n",
       "       'S0143'], dtype=object)"
      ]
     },
     "execution_count": 28,
     "metadata": {},
     "output_type": "execute_result"
    }
   ],
   "source": [
    "sites_unique = df.site.unique()\n",
    "N_sites_unique = sites_unique.shape[0]\n",
    "sites_unique"
   ]
  },
  {
   "cell_type": "code",
   "execution_count": 29,
   "metadata": {},
   "outputs": [
    {
     "name": "stdout",
     "output_type": "stream",
     "text": [
      "['S0085' 'S0174' 'S0102' 'S0020' 'S0062' 'S0101' 'S0155' 'S0022' 'S0042'\n",
      " 'S0059']\n",
      "(148,)\n"
     ]
    }
   ],
   "source": [
    "print(np.random.choice(sites_unique, size=10, replace=False))\n",
    "print(sites_unique.shape)"
   ]
  },
  {
   "cell_type": "markdown",
   "metadata": {},
   "source": [
    "## Generate similar animal distributions for dataset containing disjoint site sets via the Kullback-Leibler divergence"
   ]
  },
  {
   "cell_type": "markdown",
   "metadata": {},
   "source": [
    "### Generate the site lists"
   ]
  },
  {
   "cell_type": "code",
   "execution_count": 30,
   "metadata": {},
   "outputs": [
    {
     "name": "stdout",
     "output_type": "stream",
     "text": [
      "Run 0 of 100000\n",
      "Run 10000 of 100000\n",
      "Run 20000 of 100000\n",
      "Run 30000 of 100000\n",
      "Run 40000 of 100000\n",
      "Run 50000 of 100000\n",
      "Run 60000 of 100000\n",
      "Run 70000 of 100000\n",
      "Run 80000 of 100000\n",
      "Run 90000 of 100000\n"
     ]
    }
   ],
   "source": [
    "# run N_run site distribution experiments and check for the lowest reached maximum pairwise entropy\n",
    "\n",
    "## initialize used lists\n",
    "entropies__test_train = []\n",
    "entropies__test_val = []\n",
    "entropies__val_train = []\n",
    "sites_KB_train = []\n",
    "sites_KB_val = []\n",
    "sites_KB_test = []\n",
    "\n",
    "## set the number of runs\n",
    "# N_runs = 1000\n",
    "# N_runs = 10000  # done, takes 30 min ?\n",
    "N_runs = 100000\n",
    "\n",
    "for i in range(N_runs):\n",
    "\n",
    "    n_run = i  # current run count\n",
    "    run_percentage = n_run/N_runs  # current percentage of runs (done + in progress)\n",
    "    if not n_run%int(N_runs/10):\n",
    "    # if not run_percentage%\n",
    "        print(f\"Run {n_run} of {N_runs}\")\n",
    "\n",
    "    fraction_test = 0  # initialize variable storing the test set fraction\n",
    "    fraction_val = 0  # initialize variable storing the test set fraction\n",
    "    fraction_threshold = 0.1  # set the fraction threshold up to which sites are assigned to validation and test sets\n",
    "\n",
    "    # initialize lists for storing lists of sites assigned to the individual data sets\n",
    "    sites_train = sites_unique.copy().tolist()\n",
    "    sites_val = []\n",
    "    sites_test = []\n",
    "\n",
    "    N_data = df.shape[0]  # total number of data instances\n",
    "\n",
    "    # Sampling the test set\n",
    "    while fraction_test<fraction_threshold:\n",
    "        # sample from sites (excluding previously sampled sites)\n",
    "        site_sample = np.random.choice(sites_train, size=1, replace=False)[0]\n",
    "        # print(f\"site sample: {site_sample}\")\n",
    "        sites_train.remove(site_sample)\n",
    "        # print(f\"sites_train: {sites_train}\")\n",
    "        # add corresponding data instances to the set\n",
    "        sites_test.append(site_sample)\n",
    "        # print(f\"sites_test: {sites_test}\")\n",
    "        # update fraction_test\n",
    "        N_test = df.query(\"site in @sites_test\").shape[0]  # Number of data instance in the current test set\n",
    "        fraction_test = N_test/N_data\n",
    "    \n",
    "    ## Sampling the test set\n",
    "    while fraction_val<fraction_threshold:\n",
    "        # sample from sites (excluding previously sampled sites)\n",
    "        site_sample = np.random.choice(sites_train, size=1, replace=False)[0]\n",
    "        # print(f\"site sample: {site_sample}\")\n",
    "        sites_train.remove(site_sample)\n",
    "        # print(f\"sites_train: {sites_train}\")\n",
    "        # add corresponding data instances to the set\n",
    "        sites_val.append(site_sample)\n",
    "        # print(f\"sites_test: {sites_test}\")\n",
    "        # update fraction_val\n",
    "        N_val = df.query(\"site in @sites_val\").shape[0]  # Number of data instance in the current validation set\n",
    "        fraction_val = N_val/N_data\n",
    "\n",
    "    sites_train = np.array(sites_train)\n",
    "    sites_val = np.array(sites_val)\n",
    "    sites_test = np.array(sites_test)\n",
    "\n",
    "\n",
    "    ## create the actual data sets from the generated site attribution lists\n",
    "    X_train = df.query(\"site in @sites_train\")\n",
    "    X_val = df.query(\"site in @sites_val\")\n",
    "    X_test = df.query(\"site in @sites_test\")\n",
    "\n",
    "    ## generate the distributions by summing the one-hot encoded categorical data along the columns\n",
    "    dist_train = X_train.iloc[:, 9:].sum(axis=0).to_numpy()\n",
    "    dist_val = X_val.iloc[:, 9:].sum(axis=0).to_numpy()\n",
    "    dist_test = X_test.iloc[:, 9:].sum(axis=0).to_numpy()\n",
    "\n",
    "    ## normalize the distributions (actually not necessary, because the entropy function does in internally)\n",
    "    dist_train_normalized = dist_train/dist_train.sum()\n",
    "    dist_val_normalized = dist_val/dist_val.sum()\n",
    "    dist_test_normalized = dist_test/dist_test.sum()\n",
    "\n",
    "    ## calculate the pairwise entropies for all data set pairs\n",
    "    entropy_temp__test_train = entropy(dist_test_normalized, dist_train_normalized, axis=0)\n",
    "    entropy_temp__test_val = entropy(dist_test_normalized, dist_val_normalized, axis=0)\n",
    "    entropy_temp__val_train = entropy(dist_val_normalized, dist_train_normalized, axis=0)\n",
    "\n",
    "    ## append the calculated entropies to the corresponding lists\n",
    "    entropies__test_train.append(entropy_temp__test_train)\n",
    "    entropies__test_val.append(entropy_temp__test_val)\n",
    "    entropies__val_train.append(entropy_temp__val_train)\n",
    "\n",
    "    ## append the corresponding sites to the lists\n",
    "    sites_KB_train.append(sites_train)\n",
    "    sites_KB_val.append(sites_val)\n",
    "    sites_KB_test.append(sites_test)\n"
   ]
  },
  {
   "cell_type": "code",
   "execution_count": 31,
   "metadata": {},
   "outputs": [],
   "source": [
    "# extract the site combinations with minimum maximum entropy\n",
    "max_entropies = []\n",
    "for tup in zip(entropies__test_train, entropies__test_val, entropies__val_train):\n",
    "    # print(tup)\n",
    "    max_entropies.append(max(tup))\n",
    "\n",
    "idx_min_max_entropy = np.argmin(max_entropies)\n",
    "\n",
    "## get the arrays\n",
    "sites_KB_train__min_entropy = sites_KB_train[idx_min_max_entropy]\n",
    "sites_KB_val__min_entropy = sites_KB_val[idx_min_max_entropy]\n",
    "sites_KB_test__min_entropy = sites_KB_test[idx_min_max_entropy]\n",
    "\n",
    "## create Series\n",
    "sites_KB_train__min_entropy__Series = pd.Series(sites_KB_train__min_entropy)\n",
    "sites_KB_val__min_entropy__Series = pd.Series(sites_KB_val__min_entropy)\n",
    "sites_KB_test__min_entropy__Series = pd.Series(sites_KB_test__min_entropy)"
   ]
  },
  {
   "cell_type": "code",
   "execution_count": 32,
   "metadata": {},
   "outputs": [
    {
     "name": "stdout",
     "output_type": "stream",
     "text": [
      "Minimum maximum entropy: 0.0209\n"
     ]
    }
   ],
   "source": [
    "# print the minimum maximum entropy value achieved\n",
    "print(\"Minimum maximum entropy:\", round(max_entropies[idx_min_max_entropy], 4))"
   ]
  },
  {
   "cell_type": "code",
   "execution_count": 33,
   "metadata": {},
   "outputs": [],
   "source": [
    "# Generate the train, validation and test dataset info DataFrames\n",
    "\n",
    "df_train = df.query(\"site in @sites_KB_train__min_entropy\")\n",
    "df_val = df.query(\"site in @sites_KB_val__min_entropy\")\n",
    "df_test = df.query(\"site in @sites_KB_test__min_entropy\")"
   ]
  },
  {
   "cell_type": "code",
   "execution_count": 35,
   "metadata": {},
   "outputs": [],
   "source": [
    "# save all results\n",
    "\n",
    "dir_output_relative = \"../data/\"  # the relative directory path to all data files\n",
    "\n",
    "sites_KB_train__min_entropy__Series.to_csv(dir_output_relative+f\"sites_KB_train__min_entropy__{N_runs}_runs.csv\", index=False, header=None)\n",
    "sites_KB_val__min_entropy__Series.to_csv(dir_output_relative+f\"sites_KB_val__min_entropy__{N_runs}_runs.csv\", index=False, header=None)\n",
    "sites_KB_test__min_entropy__Series.to_csv(dir_output_relative+f\"sites_KB_test__min_entropy__{N_runs}_runs.csv\", index=False, header=None)\n",
    "\n",
    "df_train.to_csv(dir_output_relative+f\"train_dataset_info__{N_runs}_runs.csv\", index=False)\n",
    "df_val.to_csv(dir_output_relative+f\"val_dataset_info__{N_runs}_runs.csv\", index=False)\n",
    "df_test.to_csv(dir_output_relative+f\"test_dataset_info__{N_runs}_runs.csv\", index=False)"
   ]
  },
  {
   "cell_type": "code",
   "execution_count": 36,
   "metadata": {},
   "outputs": [
    {
     "name": "stdout",
     "output_type": "stream",
     "text": [
      "Train set fraction: 0.7956\n",
      "Validation set fraction: 0.1041\n",
      "Test set fraction: 0.1003\n"
     ]
    }
   ],
   "source": [
    "# check the dataset fractions\n",
    "\n",
    "print(f\"Train set fraction: {df_train.shape[0]/N_data:.4f}\")\n",
    "print(f\"Validation set fraction: {df_val.shape[0]/N_data:.4f}\")\n",
    "print(f\"Test set fraction: {df_test.shape[0]/N_data:.4f}\")"
   ]
  },
  {
   "cell_type": "code",
   "execution_count": 37,
   "metadata": {},
   "outputs": [
    {
     "name": "stderr",
     "output_type": "stream",
     "text": [
      "/var/folders/vp/mh2_0sxn02z5xspn2r6hp18m0000gn/T/ipykernel_4568/2911387782.py:20: UserWarning: Matplotlib is currently using module://matplotlib_inline.backend_inline, which is a non-GUI backend, so cannot show the figure.\n",
      "  fig.show()\n"
     ]
    },
    {
     "data": {
      "image/png": "[encoded data removed]",
      "text/plain": [
       "<Figure size 1500x1000 with 3 Axes>"
      ]
     },
     "metadata": {},
     "output_type": "display_data"
    }
   ],
   "source": [
    "# plot the distributions for visual comparison\n",
    "\n",
    "fig, ax = plt.subplots(3, 1, figsize=(15, 10), sharex=True)\n",
    "\n",
    "sns.countplot(data=df_train.sort_values(by='animal_label'), x=\"animal_label\", ax=ax[0])\n",
    "sns.countplot(data=df_val.sort_values(by='animal_label'), x=\"animal_label\", ax=ax[1])\n",
    "sns.countplot(data=df_test.sort_values(by='animal_label'), x=\"animal_label\", ax=ax[2])\n",
    "\n",
    "ax[0].set(title=\"Train data\",\n",
    "          xlabel=\"\",\n",
    "          ylabel=\"Count\")\n",
    "ax[1].set(title=\"Validation data\",\n",
    "          xlabel=\"\",\n",
    "          ylabel=\"Count\")\n",
    "ax[2].set(title=\"Test data\",\n",
    "          xlabel=\"Animal\",\n",
    "          ylabel=\"Count\")\n",
    "\n",
    "fig.tight_layout()\n",
    "fig.show()\n",
    "fig.savefig(dir_output_relative+f\"distribution_comparison__{N_runs}_runs.png\", dpi=300)"
   ]
  },
  {
   "cell_type": "code",
   "execution_count": null,
   "metadata": {},
   "outputs": [],
   "source": []
  },
  {
   "cell_type": "code",
   "execution_count": null,
   "metadata": {},
   "outputs": [],
   "source": []
  }
 ],
 "metadata": {
  "kernelspec": {
   "display_name": ".venv",
   "language": "python",
   "name": "python3"
  },
  "language_info": {
   "codemirror_mode": {
    "name": "ipython",
    "version": 3
   },
   "file_extension": ".py",
   "mimetype": "text/x-python",
   "name": "python",
   "nbconvert_exporter": "python",
   "pygments_lexer": "ipython3",
   "version": "3.11.3"
  }
 },
 "nbformat": 4,
 "nbformat_minor": 2
}
