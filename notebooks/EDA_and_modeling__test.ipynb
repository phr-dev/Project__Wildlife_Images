{
 "cells": [
  {
   "cell_type": "markdown",
   "metadata": {},
   "source": [
    "# EDA and data info extraction"
   ]
  },
  {
   "cell_type": "markdown",
   "metadata": {},
   "source": [
    "## Import modules"
   ]
  },
  {
   "cell_type": "code",
   "execution_count": 1,
   "metadata": {},
   "outputs": [],
   "source": [
    "import sys\n",
    "import os\n",
    "import glob\n",
    "\n",
    "import numpy as np\n",
    "import pandas as pd\n",
    "\n",
    "import matplotlib.pyplot as plt\n",
    "import seaborn as sns\n",
    "# sns.set_theme()\n",
    "\n",
    "# cyberpunk theme\n",
    "import mplcyberpunk\n",
    "plt.style.use('cyberpunk')\n",
    "\n",
    "\n",
    "import cv2 as cv\n",
    "\n",
    "from sklearn.model_selection import train_test_split\n",
    "\n",
    "# project-specific custom functions\n",
    "## export the path to custom modules\n",
    "sys.path.append(\"../functions\")\n",
    "## import functions\n",
    "from preprocessing import import_image_files, import_images_from_file_list\n"
   ]
  },
  {
   "cell_type": "markdown",
   "metadata": {},
   "source": [
    "## Data loading and preprocessing\n",
    "\n",
    "- loading\n",
    "- splitting"
   ]
  },
  {
   "cell_type": "markdown",
   "metadata": {},
   "source": [
    "### Load the data and construct info DataFrames\n",
    "\n",
    "- start with the available data information in the \"train_features.csv\" file\n",
    "- load the images from the given list\n",
    "- append information about images\n",
    "  - shape\n",
    "  - height\n",
    "  - width\n",
    "  - number of channels\n",
    "  - label value\n",
    "  - nominal category (...)"
   ]
  },
  {
   "cell_type": "code",
   "execution_count": 2,
   "metadata": {},
   "outputs": [],
   "source": [
    "# read feature and label information into a DataFrame\n",
    "\n",
    "dir_data_relative = \"../data/\"  # the relative directory path to all data files"
   ]
  },
  {
   "cell_type": "code",
   "execution_count": null,
   "metadata": {},
   "outputs": [],
   "source": [
    "## feature information\n",
    "### for the purposes of this project, the data listed in \"train_features.csv\" represents all data available\n",
    "df__data_info = pd.read_csv(dir_data_relative+\"train_features.csv\")\n",
    "df__data_info.head(2)"
   ]
  },
  {
   "cell_type": "code",
   "execution_count": 4,
   "metadata": {},
   "outputs": [
    {
     "data": {
      "text/html": [
       "<div>\n",
       "<style scoped>\n",
       "    .dataframe tbody tr th:only-of-type {\n",
       "        vertical-align: middle;\n",
       "    }\n",
       "\n",
       "    .dataframe tbody tr th {\n",
       "        vertical-align: top;\n",
       "    }\n",
       "\n",
       "    .dataframe thead th {\n",
       "        text-align: right;\n",
       "    }\n",
       "</style>\n",
       "<table border=\"1\" class=\"dataframe\">\n",
       "  <thead>\n",
       "    <tr style=\"text-align: right;\">\n",
       "      <th></th>\n",
       "      <th>id</th>\n",
       "      <th>antelope_duiker</th>\n",
       "      <th>bird</th>\n",
       "      <th>blank</th>\n",
       "      <th>civet_genet</th>\n",
       "      <th>hog</th>\n",
       "      <th>leopard</th>\n",
       "      <th>monkey_prosimian</th>\n",
       "      <th>rodent</th>\n",
       "    </tr>\n",
       "  </thead>\n",
       "  <tbody>\n",
       "    <tr>\n",
       "      <th>0</th>\n",
       "      <td>ZJ000000</td>\n",
       "      <td>0.0</td>\n",
       "      <td>1.0</td>\n",
       "      <td>0.0</td>\n",
       "      <td>0.0</td>\n",
       "      <td>0.0</td>\n",
       "      <td>0.0</td>\n",
       "      <td>0.0</td>\n",
       "      <td>0.0</td>\n",
       "    </tr>\n",
       "    <tr>\n",
       "      <th>1</th>\n",
       "      <td>ZJ000001</td>\n",
       "      <td>0.0</td>\n",
       "      <td>0.0</td>\n",
       "      <td>0.0</td>\n",
       "      <td>0.0</td>\n",
       "      <td>0.0</td>\n",
       "      <td>0.0</td>\n",
       "      <td>1.0</td>\n",
       "      <td>0.0</td>\n",
       "    </tr>\n",
       "  </tbody>\n",
       "</table>\n",
       "</div>"
      ],
      "text/plain": [
       "         id  antelope_duiker  bird  blank  civet_genet  hog  leopard   \n",
       "0  ZJ000000              0.0   1.0    0.0          0.0  0.0      0.0  \\\n",
       "1  ZJ000001              0.0   0.0    0.0          0.0  0.0      0.0   \n",
       "\n",
       "   monkey_prosimian  rodent  \n",
       "0               0.0     0.0  \n",
       "1               1.0     0.0  "
      ]
     },
     "execution_count": 4,
     "metadata": {},
     "output_type": "execute_result"
    }
   ],
   "source": [
    "### label information\n",
    "df__labels = pd.read_csv(dir_data_relative+\"train_labels.csv\")\n",
    "df__labels.head(2)"
   ]
  },
  {
   "cell_type": "code",
   "execution_count": 5,
   "metadata": {},
   "outputs": [],
   "source": [
    "## load all info data (one numpy array per image). use the list from the DataFrame to get a matching order\n",
    "filepaths = (dir_data_relative + df__data_info.filepath).to_list()  # list with all image file paths\n",
    "image_list = import_images_from_file_list(file_list=filepaths)  # load all images"
   ]
  },
  {
   "cell_type": "code",
   "execution_count": 6,
   "metadata": {},
   "outputs": [
    {
     "data": {
      "text/html": [
       "<div>\n",
       "<style scoped>\n",
       "    .dataframe tbody tr th:only-of-type {\n",
       "        vertical-align: middle;\n",
       "    }\n",
       "\n",
       "    .dataframe tbody tr th {\n",
       "        vertical-align: top;\n",
       "    }\n",
       "\n",
       "    .dataframe thead th {\n",
       "        text-align: right;\n",
       "    }\n",
       "</style>\n",
       "<table border=\"1\" class=\"dataframe\">\n",
       "  <thead>\n",
       "    <tr style=\"text-align: right;\">\n",
       "      <th></th>\n",
       "      <th>id</th>\n",
       "      <th>filepath</th>\n",
       "      <th>site</th>\n",
       "      <th>shape</th>\n",
       "      <th>height</th>\n",
       "      <th>width</th>\n",
       "      <th>N_channels</th>\n",
       "      <th>aspect_ratio</th>\n",
       "    </tr>\n",
       "  </thead>\n",
       "  <tbody>\n",
       "    <tr>\n",
       "      <th>0</th>\n",
       "      <td>ZJ000000</td>\n",
       "      <td>train_features/ZJ000000.jpg</td>\n",
       "      <td>S0120</td>\n",
       "      <td>(540, 960, 3)</td>\n",
       "      <td>540</td>\n",
       "      <td>960</td>\n",
       "      <td>3</td>\n",
       "      <td>1.777778</td>\n",
       "    </tr>\n",
       "    <tr>\n",
       "      <th>1</th>\n",
       "      <td>ZJ000001</td>\n",
       "      <td>train_features/ZJ000001.jpg</td>\n",
       "      <td>S0069</td>\n",
       "      <td>(540, 960, 3)</td>\n",
       "      <td>540</td>\n",
       "      <td>960</td>\n",
       "      <td>3</td>\n",
       "      <td>1.777778</td>\n",
       "    </tr>\n",
       "    <tr>\n",
       "      <th>2</th>\n",
       "      <td>ZJ000002</td>\n",
       "      <td>train_features/ZJ000002.jpg</td>\n",
       "      <td>S0009</td>\n",
       "      <td>(360, 640, 3)</td>\n",
       "      <td>360</td>\n",
       "      <td>640</td>\n",
       "      <td>3</td>\n",
       "      <td>1.777778</td>\n",
       "    </tr>\n",
       "  </tbody>\n",
       "</table>\n",
       "</div>"
      ],
      "text/plain": [
       "         id                     filepath   site          shape  height  width   \n",
       "0  ZJ000000  train_features/ZJ000000.jpg  S0120  (540, 960, 3)     540    960  \\\n",
       "1  ZJ000001  train_features/ZJ000001.jpg  S0069  (540, 960, 3)     540    960   \n",
       "2  ZJ000002  train_features/ZJ000002.jpg  S0009  (360, 640, 3)     360    640   \n",
       "\n",
       "   N_channels  aspect_ratio  \n",
       "0           3      1.777778  \n",
       "1           3      1.777778  \n",
       "2           3      1.777778  "
      ]
     },
     "execution_count": 6,
     "metadata": {},
     "output_type": "execute_result"
    }
   ],
   "source": [
    "# calculate useful information about all images\n",
    "\n",
    "## get the image shapes\n",
    "shape_Series = pd.Series([image.shape for image in image_list], name=\"shape\")  # all shapes\n",
    "\n",
    "## extract individual shape values\n",
    "shapes_DataFrame = pd.DataFrame(shape_Series.to_list(), columns=[\"height\", \"width\", \"N_channels\"])\n",
    "\n",
    "## calculate the image dimension ratios\n",
    "ratio_Series = pd.Series([x/y for (y, x, _) in shape_Series], name=\"aspect_ratio\")\n",
    "\n",
    "## label values\n",
    "\n",
    "## nominal class values\n",
    "\n",
    "\n",
    "## join everything with the original info DataFrame\n",
    "df__data_info = pd.concat(objs=[df__data_info, shape_Series, shapes_DataFrame, ratio_Series], axis=1)\n",
    "df__data_info.head(3)"
   ]
  },
  {
   "cell_type": "code",
   "execution_count": 7,
   "metadata": {},
   "outputs": [
    {
     "data": {
      "text/plain": [
       "1.0    16488\n",
       "Name: count, dtype: int64"
      ]
     },
     "execution_count": 7,
     "metadata": {},
     "output_type": "execute_result"
    }
   ],
   "source": [
    "# join the label data\n",
    "\n",
    "\n",
    "## check if the label only contains a single class per image\n",
    "animal_in_scene = df__labels.drop(columns=\"id\")  # one-hot-encoded label\n",
    "animal_in_scene.sum(axis=1).value_counts()  # check for unique values"
   ]
  },
  {
   "cell_type": "code",
   "execution_count": 8,
   "metadata": {},
   "outputs": [
    {
     "data": {
      "text/plain": [
       "0                bird\n",
       "1    monkey_prosimian\n",
       "2                bird\n",
       "Name: animal_label, dtype: object"
      ]
     },
     "execution_count": 8,
     "metadata": {},
     "output_type": "execute_result"
    }
   ],
   "source": [
    "## since there is only one animal label per scene and no dropping of dummy variables is present here,\n",
    "## one can use inverse one-hot-encoding to get the actual animal names as labels\n",
    "animal_label = pd.from_dummies(animal_in_scene.astype(int))[\"\"]\n",
    "animal_label.name = \"animal_label\"\n",
    "# animal_label.columns = [\"1\", \"2\"]\n",
    "animal_label.head(3)"
   ]
  },
  {
   "cell_type": "code",
   "execution_count": 9,
   "metadata": {},
   "outputs": [
    {
     "data": {
      "text/html": [
       "<div>\n",
       "<style scoped>\n",
       "    .dataframe tbody tr th:only-of-type {\n",
       "        vertical-align: middle;\n",
       "    }\n",
       "\n",
       "    .dataframe tbody tr th {\n",
       "        vertical-align: top;\n",
       "    }\n",
       "\n",
       "    .dataframe thead th {\n",
       "        text-align: right;\n",
       "    }\n",
       "</style>\n",
       "<table border=\"1\" class=\"dataframe\">\n",
       "  <thead>\n",
       "    <tr style=\"text-align: right;\">\n",
       "      <th></th>\n",
       "      <th>animal_label</th>\n",
       "      <th>id</th>\n",
       "      <th>antelope_duiker</th>\n",
       "      <th>bird</th>\n",
       "      <th>blank</th>\n",
       "      <th>civet_genet</th>\n",
       "      <th>hog</th>\n",
       "      <th>leopard</th>\n",
       "      <th>monkey_prosimian</th>\n",
       "      <th>rodent</th>\n",
       "    </tr>\n",
       "  </thead>\n",
       "  <tbody>\n",
       "    <tr>\n",
       "      <th>0</th>\n",
       "      <td>bird</td>\n",
       "      <td>ZJ000000</td>\n",
       "      <td>0.0</td>\n",
       "      <td>1.0</td>\n",
       "      <td>0.0</td>\n",
       "      <td>0.0</td>\n",
       "      <td>0.0</td>\n",
       "      <td>0.0</td>\n",
       "      <td>0.0</td>\n",
       "      <td>0.0</td>\n",
       "    </tr>\n",
       "    <tr>\n",
       "      <th>1</th>\n",
       "      <td>monkey_prosimian</td>\n",
       "      <td>ZJ000001</td>\n",
       "      <td>0.0</td>\n",
       "      <td>0.0</td>\n",
       "      <td>0.0</td>\n",
       "      <td>0.0</td>\n",
       "      <td>0.0</td>\n",
       "      <td>0.0</td>\n",
       "      <td>1.0</td>\n",
       "      <td>0.0</td>\n",
       "    </tr>\n",
       "    <tr>\n",
       "      <th>2</th>\n",
       "      <td>bird</td>\n",
       "      <td>ZJ000002</td>\n",
       "      <td>0.0</td>\n",
       "      <td>1.0</td>\n",
       "      <td>0.0</td>\n",
       "      <td>0.0</td>\n",
       "      <td>0.0</td>\n",
       "      <td>0.0</td>\n",
       "      <td>0.0</td>\n",
       "      <td>0.0</td>\n",
       "    </tr>\n",
       "    <tr>\n",
       "      <th>3</th>\n",
       "      <td>monkey_prosimian</td>\n",
       "      <td>ZJ000003</td>\n",
       "      <td>0.0</td>\n",
       "      <td>0.0</td>\n",
       "      <td>0.0</td>\n",
       "      <td>0.0</td>\n",
       "      <td>0.0</td>\n",
       "      <td>0.0</td>\n",
       "      <td>1.0</td>\n",
       "      <td>0.0</td>\n",
       "    </tr>\n",
       "    <tr>\n",
       "      <th>4</th>\n",
       "      <td>leopard</td>\n",
       "      <td>ZJ000004</td>\n",
       "      <td>0.0</td>\n",
       "      <td>0.0</td>\n",
       "      <td>0.0</td>\n",
       "      <td>0.0</td>\n",
       "      <td>0.0</td>\n",
       "      <td>1.0</td>\n",
       "      <td>0.0</td>\n",
       "      <td>0.0</td>\n",
       "    </tr>\n",
       "  </tbody>\n",
       "</table>\n",
       "</div>"
      ],
      "text/plain": [
       "       animal_label        id  antelope_duiker  bird  blank  civet_genet  hog   \n",
       "0              bird  ZJ000000              0.0   1.0    0.0          0.0  0.0  \\\n",
       "1  monkey_prosimian  ZJ000001              0.0   0.0    0.0          0.0  0.0   \n",
       "2              bird  ZJ000002              0.0   1.0    0.0          0.0  0.0   \n",
       "3  monkey_prosimian  ZJ000003              0.0   0.0    0.0          0.0  0.0   \n",
       "4           leopard  ZJ000004              0.0   0.0    0.0          0.0  0.0   \n",
       "\n",
       "   leopard  monkey_prosimian  rodent  \n",
       "0      0.0               0.0     0.0  \n",
       "1      0.0               1.0     0.0  \n",
       "2      0.0               0.0     0.0  \n",
       "3      0.0               1.0     0.0  \n",
       "4      1.0               0.0     0.0  "
      ]
     },
     "execution_count": 9,
     "metadata": {},
     "output_type": "execute_result"
    }
   ],
   "source": [
    "## extend the label data by a list of animals in the scence\n",
    "df__labels = pd.concat(objs=[animal_label, df__labels], axis=1)\n",
    "df__labels.head()"
   ]
  },
  {
   "cell_type": "code",
   "execution_count": 10,
   "metadata": {},
   "outputs": [
    {
     "data": {
      "text/plain": [
       "array([ True])"
      ]
     },
     "execution_count": 10,
     "metadata": {},
     "output_type": "execute_result"
    }
   ],
   "source": [
    "(df__data_info.id == df__labels.id).unique()"
   ]
  },
  {
   "cell_type": "code",
   "execution_count": 11,
   "metadata": {},
   "outputs": [
    {
     "data": {
      "text/html": [
       "<div>\n",
       "<style scoped>\n",
       "    .dataframe tbody tr th:only-of-type {\n",
       "        vertical-align: middle;\n",
       "    }\n",
       "\n",
       "    .dataframe tbody tr th {\n",
       "        vertical-align: top;\n",
       "    }\n",
       "\n",
       "    .dataframe thead th {\n",
       "        text-align: right;\n",
       "    }\n",
       "</style>\n",
       "<table border=\"1\" class=\"dataframe\">\n",
       "  <thead>\n",
       "    <tr style=\"text-align: right;\">\n",
       "      <th></th>\n",
       "      <th>id</th>\n",
       "      <th>filepath</th>\n",
       "      <th>site</th>\n",
       "      <th>shape</th>\n",
       "      <th>height</th>\n",
       "      <th>width</th>\n",
       "      <th>N_channels</th>\n",
       "      <th>aspect_ratio</th>\n",
       "      <th>animal_label</th>\n",
       "      <th>antelope_duiker</th>\n",
       "      <th>bird</th>\n",
       "      <th>blank</th>\n",
       "      <th>civet_genet</th>\n",
       "      <th>hog</th>\n",
       "      <th>leopard</th>\n",
       "      <th>monkey_prosimian</th>\n",
       "      <th>rodent</th>\n",
       "    </tr>\n",
       "  </thead>\n",
       "  <tbody>\n",
       "    <tr>\n",
       "      <th>0</th>\n",
       "      <td>ZJ000000</td>\n",
       "      <td>train_features/ZJ000000.jpg</td>\n",
       "      <td>S0120</td>\n",
       "      <td>(540, 960, 3)</td>\n",
       "      <td>540</td>\n",
       "      <td>960</td>\n",
       "      <td>3</td>\n",
       "      <td>1.777778</td>\n",
       "      <td>bird</td>\n",
       "      <td>0.0</td>\n",
       "      <td>1.0</td>\n",
       "      <td>0.0</td>\n",
       "      <td>0.0</td>\n",
       "      <td>0.0</td>\n",
       "      <td>0.0</td>\n",
       "      <td>0.0</td>\n",
       "      <td>0.0</td>\n",
       "    </tr>\n",
       "    <tr>\n",
       "      <th>1</th>\n",
       "      <td>ZJ000001</td>\n",
       "      <td>train_features/ZJ000001.jpg</td>\n",
       "      <td>S0069</td>\n",
       "      <td>(540, 960, 3)</td>\n",
       "      <td>540</td>\n",
       "      <td>960</td>\n",
       "      <td>3</td>\n",
       "      <td>1.777778</td>\n",
       "      <td>monkey_prosimian</td>\n",
       "      <td>0.0</td>\n",
       "      <td>0.0</td>\n",
       "      <td>0.0</td>\n",
       "      <td>0.0</td>\n",
       "      <td>0.0</td>\n",
       "      <td>0.0</td>\n",
       "      <td>1.0</td>\n",
       "      <td>0.0</td>\n",
       "    </tr>\n",
       "    <tr>\n",
       "      <th>2</th>\n",
       "      <td>ZJ000002</td>\n",
       "      <td>train_features/ZJ000002.jpg</td>\n",
       "      <td>S0009</td>\n",
       "      <td>(360, 640, 3)</td>\n",
       "      <td>360</td>\n",
       "      <td>640</td>\n",
       "      <td>3</td>\n",
       "      <td>1.777778</td>\n",
       "      <td>bird</td>\n",
       "      <td>0.0</td>\n",
       "      <td>1.0</td>\n",
       "      <td>0.0</td>\n",
       "      <td>0.0</td>\n",
       "      <td>0.0</td>\n",
       "      <td>0.0</td>\n",
       "      <td>0.0</td>\n",
       "      <td>0.0</td>\n",
       "    </tr>\n",
       "    <tr>\n",
       "      <th>3</th>\n",
       "      <td>ZJ000003</td>\n",
       "      <td>train_features/ZJ000003.jpg</td>\n",
       "      <td>S0008</td>\n",
       "      <td>(360, 640, 3)</td>\n",
       "      <td>360</td>\n",
       "      <td>640</td>\n",
       "      <td>3</td>\n",
       "      <td>1.777778</td>\n",
       "      <td>monkey_prosimian</td>\n",
       "      <td>0.0</td>\n",
       "      <td>0.0</td>\n",
       "      <td>0.0</td>\n",
       "      <td>0.0</td>\n",
       "      <td>0.0</td>\n",
       "      <td>0.0</td>\n",
       "      <td>1.0</td>\n",
       "      <td>0.0</td>\n",
       "    </tr>\n",
       "    <tr>\n",
       "      <th>4</th>\n",
       "      <td>ZJ000004</td>\n",
       "      <td>train_features/ZJ000004.jpg</td>\n",
       "      <td>S0036</td>\n",
       "      <td>(335, 640, 3)</td>\n",
       "      <td>335</td>\n",
       "      <td>640</td>\n",
       "      <td>3</td>\n",
       "      <td>1.910448</td>\n",
       "      <td>leopard</td>\n",
       "      <td>0.0</td>\n",
       "      <td>0.0</td>\n",
       "      <td>0.0</td>\n",
       "      <td>0.0</td>\n",
       "      <td>0.0</td>\n",
       "      <td>1.0</td>\n",
       "      <td>0.0</td>\n",
       "      <td>0.0</td>\n",
       "    </tr>\n",
       "  </tbody>\n",
       "</table>\n",
       "</div>"
      ],
      "text/plain": [
       "         id                     filepath   site          shape  height  width   \n",
       "0  ZJ000000  train_features/ZJ000000.jpg  S0120  (540, 960, 3)     540    960  \\\n",
       "1  ZJ000001  train_features/ZJ000001.jpg  S0069  (540, 960, 3)     540    960   \n",
       "2  ZJ000002  train_features/ZJ000002.jpg  S0009  (360, 640, 3)     360    640   \n",
       "3  ZJ000003  train_features/ZJ000003.jpg  S0008  (360, 640, 3)     360    640   \n",
       "4  ZJ000004  train_features/ZJ000004.jpg  S0036  (335, 640, 3)     335    640   \n",
       "\n",
       "   N_channels  aspect_ratio      animal_label  antelope_duiker  bird  blank   \n",
       "0           3      1.777778              bird              0.0   1.0    0.0  \\\n",
       "1           3      1.777778  monkey_prosimian              0.0   0.0    0.0   \n",
       "2           3      1.777778              bird              0.0   1.0    0.0   \n",
       "3           3      1.777778  monkey_prosimian              0.0   0.0    0.0   \n",
       "4           3      1.910448           leopard              0.0   0.0    0.0   \n",
       "\n",
       "   civet_genet  hog  leopard  monkey_prosimian  rodent  \n",
       "0          0.0  0.0      0.0               0.0     0.0  \n",
       "1          0.0  0.0      0.0               1.0     0.0  \n",
       "2          0.0  0.0      0.0               0.0     0.0  \n",
       "3          0.0  0.0      0.0               1.0     0.0  \n",
       "4          0.0  0.0      1.0               0.0     0.0  "
      ]
     },
     "execution_count": 11,
     "metadata": {},
     "output_type": "execute_result"
    }
   ],
   "source": [
    "## join the frames (use the merge method to join on a column instead of the index of the frame provided as an argument)\n",
    "df__data_info_all = df__data_info.merge(right=df__labels, on=\"id\", how=\"left\")\n",
    "df__data_info_all.head()"
   ]
  },
  {
   "cell_type": "code",
   "execution_count": 12,
   "metadata": {},
   "outputs": [
    {
     "data": {
      "text/plain": [
       "shape\n",
       "(360, 640, 3)    7490\n",
       "(540, 960, 3)    6345\n",
       "(335, 640, 3)     970\n",
       "(240, 360, 3)     864\n",
       "(515, 960, 3)     458\n",
       "(120, 160, 3)     293\n",
       "(215, 360, 3)      67\n",
       "(95, 160, 3)        1\n",
       "Name: count, dtype: int64"
      ]
     },
     "execution_count": 12,
     "metadata": {},
     "output_type": "execute_result"
    }
   ],
   "source": [
    "# get the image shape counts\n",
    "df__data_info[\"shape\"].value_counts()"
   ]
  },
  {
   "cell_type": "markdown",
   "metadata": {},
   "source": [
    "# Split the data (old method without considering disjoint datasets with respect to the sites)\n",
    "\n",
    "- split the data list (80% train, 10% dev, 10% test), stratify according to label column\n",
    "- store the individual dataset"
   ]
  },
  {
   "cell_type": "code",
   "execution_count": 13,
   "metadata": {},
   "outputs": [],
   "source": [
    "y = df__labels.iloc[:, 2:]\n",
    "# split off test set\n",
    "X_train__info, X_test__info, y_train, y_test = train_test_split(df__data_info, y, test_size=0.1, stratify=y)\n",
    "\n",
    "# split off validation set\n",
    "X_train__info, X_dev__info, y_train, y_dev = train_test_split(X_train__info, y_train, test_size=1/9, stratify=y_train)"
   ]
  },
  {
   "cell_type": "code",
   "execution_count": 14,
   "metadata": {},
   "outputs": [
    {
     "name": "stdout",
     "output_type": "stream",
     "text": [
      "train data info shape: (13190, 8)\n",
      "dev data info shape: (1649, 8)\n",
      "test data info shape: (1649, 8)\n"
     ]
    }
   ],
   "source": [
    "print(f\"train data info shape: {X_train__info.shape}\")\n",
    "print(f\"dev data info shape: {X_dev__info.shape}\")\n",
    "print(f\"test data info shape: {X_test__info.shape}\")"
   ]
  },
  {
   "cell_type": "code",
   "execution_count": 17,
   "metadata": {},
   "outputs": [],
   "source": [
    "# save the data info files\n",
    "\n",
    "X_train__info.to_csv(dir_data_relative+\"X_train__info.csv\", index=False)\n",
    "X_dev__info.to_csv(dir_data_relative+\"X_dev__info.csv\", index=False)\n",
    "X_test__info.to_csv(dir_data_relative+\"X_test__info.csv\", index=False)\n",
    "\n",
    "y_train.to_csv(dir_data_relative+\"y_train.csv\", index=False)\n",
    "y_dev.to_csv(dir_data_relative+\"y_dev.csv\", index=False)\n",
    "y_test.to_csv(dir_data_relative+\"y_test.csv\", index=False)"
   ]
  },
  {
   "cell_type": "markdown",
   "metadata": {},
   "source": [
    "# EDA\n",
    "\n",
    "- check if there are multiple animals in a single scene. If so, check if they are different or of the same species.\n",
    "  - count the number of list items in the label list column"
   ]
  },
  {
   "cell_type": "code",
   "execution_count": null,
   "metadata": {},
   "outputs": [
    {
     "data": {
      "image/png": "[encoded data removed]",
      "text/plain": [
       "<Figure size 640x480 with 1 Axes>"
      ]
     },
     "metadata": {},
     "output_type": "display_data"
    }
   ],
   "source": [
    "colors = [\"C0\", \"C1\", \"C2\", \"C3\", \"C4\", \"C5\", \"C6\", \"C7\"]\n",
    "order = df__data_info_all[\"animal_label\"].value_counts().index\n",
    "x_tick_labels = order.str.title().str.replace(\"_\", \" \")\n",
    "\n",
    "fig, ax = plt.subplots(1, 1)\n",
    "sns.countplot(data=df__data_info_all,\n",
    "              x=\"animal_label\",\n",
    "              # stat=\"percent\",\n",
    "              order = order,\n",
    "              palette=colors,\n",
    "              ax=ax)\n",
    "ax.set(xlabel=\"\",#\"Animal\",\n",
    "       ylabel=\"Count\")\n",
    "ax.tick_params(axis='x', labelrotation=45)\n",
    "ax.set_xticklabels(x_tick_labels)\n",
    "mplcyberpunk.add_bar_gradient(bars=ax.containers[0])"
   ]
  },
  {
   "cell_type": "code",
   "execution_count": null,
   "metadata": {},
   "outputs": [
    {
     "data": {
      "text/plain": [
       "<BarContainer object of 8 artists>"
      ]
     },
     "execution_count": 17,
     "metadata": {},
     "output_type": "execute_result"
    }
   ],
   "source": [
    "ax.containers[0]"
   ]
  },
  {
   "cell_type": "code",
   "execution_count": null,
   "metadata": {},
   "outputs": [],
   "source": []
  },
  {
   "cell_type": "code",
   "execution_count": null,
   "metadata": {},
   "outputs": [],
   "source": []
  },
  {
   "cell_type": "code",
   "execution_count": null,
   "metadata": {},
   "outputs": [],
   "source": []
  },
  {
   "cell_type": "markdown",
   "metadata": {},
   "source": [
    "# Old stuff (REFACTOR)"
   ]
  },
  {
   "cell_type": "code",
   "execution_count": null,
   "metadata": {},
   "outputs": [],
   "source": [
    "\n",
    "\n",
    "# get the unique sites\n",
    "sites = df_train_features[\"site\"].unique()"
   ]
  },
  {
   "cell_type": "markdown",
   "metadata": {},
   "source": [
    "- [ ] Get the minmum of all shapes (in each dimensions)\n",
    "        - 95, 160\n",
    "- [ ] maybe convert all to greyscale?\n",
    "- [ ] crop the images by indexing in the first two dimensions\n",
    "- [ ] flatten the arrays"
   ]
  },
  {
   "cell_type": "code",
   "execution_count": null,
   "metadata": {},
   "outputs": [
    {
     "data": {
      "text/html": [
       "<div>\n",
       "<style scoped>\n",
       "    .dataframe tbody tr th:only-of-type {\n",
       "        vertical-align: middle;\n",
       "    }\n",
       "\n",
       "    .dataframe tbody tr th {\n",
       "        vertical-align: top;\n",
       "    }\n",
       "\n",
       "    .dataframe thead th {\n",
       "        text-align: right;\n",
       "    }\n",
       "</style>\n",
       "<table border=\"1\" class=\"dataframe\">\n",
       "  <thead>\n",
       "    <tr style=\"text-align: right;\">\n",
       "      <th></th>\n",
       "      <th>y</th>\n",
       "      <th>x</th>\n",
       "      <th>z</th>\n",
       "    </tr>\n",
       "  </thead>\n",
       "  <tbody>\n",
       "    <tr>\n",
       "      <th>0</th>\n",
       "      <td>360</td>\n",
       "      <td>640</td>\n",
       "      <td>3</td>\n",
       "    </tr>\n",
       "    <tr>\n",
       "      <th>1</th>\n",
       "      <td>540</td>\n",
       "      <td>960</td>\n",
       "      <td>3</td>\n",
       "    </tr>\n",
       "    <tr>\n",
       "      <th>2</th>\n",
       "      <td>360</td>\n",
       "      <td>640</td>\n",
       "      <td>3</td>\n",
       "    </tr>\n",
       "    <tr>\n",
       "      <th>3</th>\n",
       "      <td>360</td>\n",
       "      <td>640</td>\n",
       "      <td>3</td>\n",
       "    </tr>\n",
       "    <tr>\n",
       "      <th>4</th>\n",
       "      <td>360</td>\n",
       "      <td>640</td>\n",
       "      <td>3</td>\n",
       "    </tr>\n",
       "  </tbody>\n",
       "</table>\n",
       "</div>"
      ],
      "text/plain": [
       "     y    x  z\n",
       "0  360  640  3\n",
       "1  540  960  3\n",
       "2  360  640  3\n",
       "3  360  640  3\n",
       "4  360  640  3"
      ]
     },
     "execution_count": 6,
     "metadata": {},
     "output_type": "execute_result"
    }
   ],
   "source": []
  },
  {
   "cell_type": "code",
   "execution_count": null,
   "metadata": {},
   "outputs": [
    {
     "name": "stdout",
     "output_type": "stream",
     "text": [
      "160 95\n",
      "(95, 160, 3)\n"
     ]
    }
   ],
   "source": [
    "print(shapes_DataFrame.x.min(), shapes_DataFrame.y.min())\n",
    "print(shape_series.min())"
   ]
  },
  {
   "cell_type": "markdown",
   "metadata": {},
   "source": [
    "Current goal:\n",
    "- [ ] check if there are only two shapes for each site\n",
    "- [ ] check if all shapes for each site only differ by the first dimension (and in 25 pixels)"
   ]
  },
  {
   "cell_type": "code",
   "execution_count": null,
   "metadata": {},
   "outputs": [
    {
     "data": {
      "text/html": [
       "<div>\n",
       "<style scoped>\n",
       "    .dataframe tbody tr th:only-of-type {\n",
       "        vertical-align: middle;\n",
       "    }\n",
       "\n",
       "    .dataframe tbody tr th {\n",
       "        vertical-align: top;\n",
       "    }\n",
       "\n",
       "    .dataframe thead th {\n",
       "        text-align: right;\n",
       "    }\n",
       "</style>\n",
       "<table border=\"1\" class=\"dataframe\">\n",
       "  <thead>\n",
       "    <tr style=\"text-align: right;\">\n",
       "      <th></th>\n",
       "      <th>site</th>\n",
       "      <th>id</th>\n",
       "      <th>filepath</th>\n",
       "      <th>count</th>\n",
       "    </tr>\n",
       "  </thead>\n",
       "  <tbody>\n",
       "    <tr>\n",
       "      <th>0</th>\n",
       "      <td>S0001</td>\n",
       "      <td>ZJ000097</td>\n",
       "      <td>train_features/ZJ000097.jpg</td>\n",
       "      <td>1</td>\n",
       "    </tr>\n",
       "    <tr>\n",
       "      <th>1</th>\n",
       "      <td>S0001</td>\n",
       "      <td>ZJ000110</td>\n",
       "      <td>train_features/ZJ000110.jpg</td>\n",
       "      <td>1</td>\n",
       "    </tr>\n",
       "    <tr>\n",
       "      <th>2</th>\n",
       "      <td>S0001</td>\n",
       "      <td>ZJ007914</td>\n",
       "      <td>train_features/ZJ007914.jpg</td>\n",
       "      <td>1</td>\n",
       "    </tr>\n",
       "    <tr>\n",
       "      <th>3</th>\n",
       "      <td>S0001</td>\n",
       "      <td>ZJ007935</td>\n",
       "      <td>train_features/ZJ007935.jpg</td>\n",
       "      <td>1</td>\n",
       "    </tr>\n",
       "    <tr>\n",
       "      <th>4</th>\n",
       "      <td>S0001</td>\n",
       "      <td>ZJ007974</td>\n",
       "      <td>train_features/ZJ007974.jpg</td>\n",
       "      <td>1</td>\n",
       "    </tr>\n",
       "    <tr>\n",
       "      <th>...</th>\n",
       "      <td>...</td>\n",
       "      <td>...</td>\n",
       "      <td>...</td>\n",
       "      <td>...</td>\n",
       "    </tr>\n",
       "    <tr>\n",
       "      <th>16483</th>\n",
       "      <td>S0198</td>\n",
       "      <td>ZJ012737</td>\n",
       "      <td>train_features/ZJ012737.jpg</td>\n",
       "      <td>1</td>\n",
       "    </tr>\n",
       "    <tr>\n",
       "      <th>16484</th>\n",
       "      <td>S0198</td>\n",
       "      <td>ZJ014283</td>\n",
       "      <td>train_features/ZJ014283.jpg</td>\n",
       "      <td>1</td>\n",
       "    </tr>\n",
       "    <tr>\n",
       "      <th>16485</th>\n",
       "      <td>S0198</td>\n",
       "      <td>ZJ015178</td>\n",
       "      <td>train_features/ZJ015178.jpg</td>\n",
       "      <td>1</td>\n",
       "    </tr>\n",
       "    <tr>\n",
       "      <th>16486</th>\n",
       "      <td>S0198</td>\n",
       "      <td>ZJ015404</td>\n",
       "      <td>train_features/ZJ015404.jpg</td>\n",
       "      <td>1</td>\n",
       "    </tr>\n",
       "    <tr>\n",
       "      <th>16487</th>\n",
       "      <td>S0198</td>\n",
       "      <td>ZJ015980</td>\n",
       "      <td>train_features/ZJ015980.jpg</td>\n",
       "      <td>1</td>\n",
       "    </tr>\n",
       "  </tbody>\n",
       "</table>\n",
       "<p>16488 rows × 4 columns</p>\n",
       "</div>"
      ],
      "text/plain": [
       "        site        id                     filepath  count\n",
       "0      S0001  ZJ000097  train_features/ZJ000097.jpg      1\n",
       "1      S0001  ZJ000110  train_features/ZJ000110.jpg      1\n",
       "2      S0001  ZJ007914  train_features/ZJ007914.jpg      1\n",
       "3      S0001  ZJ007935  train_features/ZJ007935.jpg      1\n",
       "4      S0001  ZJ007974  train_features/ZJ007974.jpg      1\n",
       "...      ...       ...                          ...    ...\n",
       "16483  S0198  ZJ012737  train_features/ZJ012737.jpg      1\n",
       "16484  S0198  ZJ014283  train_features/ZJ014283.jpg      1\n",
       "16485  S0198  ZJ015178  train_features/ZJ015178.jpg      1\n",
       "16486  S0198  ZJ015404  train_features/ZJ015404.jpg      1\n",
       "16487  S0198  ZJ015980  train_features/ZJ015980.jpg      1\n",
       "\n",
       "[16488 rows x 4 columns]"
      ]
     },
     "execution_count": 8,
     "metadata": {},
     "output_type": "execute_result"
    }
   ],
   "source": [
    "df_train_features.groupby(\"site\").value_counts().reset_index()"
   ]
  },
  {
   "cell_type": "code",
   "execution_count": null,
   "metadata": {},
   "outputs": [
    {
     "data": {
      "text/plain": [
       "(360, 640, 3)    371\n",
       "(335, 640, 3)     85\n",
       "Name: count, dtype: int64"
      ]
     },
     "execution_count": 9,
     "metadata": {},
     "output_type": "execute_result"
    }
   ],
   "source": [
    "example_images = df_train_features.groupby(\"site\").value_counts()[sites[4]].to_frame().reset_index()[\"filepath\"].to_list()\n",
    "shape_list = []\n",
    "for file in example_images:\n",
    "    file_path = \"../data/\" + file\n",
    "    img = cv.imread(file_path)\n",
    "    shape_list.append(img.shape)\n",
    "\n",
    "sls = pd.Series(shape_list)\n",
    "sls.value_counts()"
   ]
  },
  {
   "cell_type": "code",
   "execution_count": null,
   "metadata": {},
   "outputs": [
    {
     "data": {
      "text/html": [
       "<div>\n",
       "<style scoped>\n",
       "    .dataframe tbody tr th:only-of-type {\n",
       "        vertical-align: middle;\n",
       "    }\n",
       "\n",
       "    .dataframe tbody tr th {\n",
       "        vertical-align: top;\n",
       "    }\n",
       "\n",
       "    .dataframe thead th {\n",
       "        text-align: right;\n",
       "    }\n",
       "</style>\n",
       "<table border=\"1\" class=\"dataframe\">\n",
       "  <thead>\n",
       "    <tr style=\"text-align: right;\">\n",
       "      <th></th>\n",
       "      <th>id</th>\n",
       "      <th>filepath</th>\n",
       "      <th>site</th>\n",
       "    </tr>\n",
       "  </thead>\n",
       "  <tbody>\n",
       "    <tr>\n",
       "      <th>0</th>\n",
       "      <td>ZJ000000</td>\n",
       "      <td>train_features/ZJ000000.jpg</td>\n",
       "      <td>S0120</td>\n",
       "    </tr>\n",
       "    <tr>\n",
       "      <th>25</th>\n",
       "      <td>ZJ000025</td>\n",
       "      <td>train_features/ZJ000025.jpg</td>\n",
       "      <td>S0120</td>\n",
       "    </tr>\n",
       "    <tr>\n",
       "      <th>27</th>\n",
       "      <td>ZJ000027</td>\n",
       "      <td>train_features/ZJ000027.jpg</td>\n",
       "      <td>S0120</td>\n",
       "    </tr>\n",
       "    <tr>\n",
       "      <th>50</th>\n",
       "      <td>ZJ000050</td>\n",
       "      <td>train_features/ZJ000050.jpg</td>\n",
       "      <td>S0120</td>\n",
       "    </tr>\n",
       "    <tr>\n",
       "      <th>62</th>\n",
       "      <td>ZJ000062</td>\n",
       "      <td>train_features/ZJ000062.jpg</td>\n",
       "      <td>S0120</td>\n",
       "    </tr>\n",
       "    <tr>\n",
       "      <th>...</th>\n",
       "      <td>...</td>\n",
       "      <td>...</td>\n",
       "      <td>...</td>\n",
       "    </tr>\n",
       "    <tr>\n",
       "      <th>16274</th>\n",
       "      <td>ZJ016274</td>\n",
       "      <td>train_features/ZJ016274.jpg</td>\n",
       "      <td>S0120</td>\n",
       "    </tr>\n",
       "    <tr>\n",
       "      <th>16334</th>\n",
       "      <td>ZJ016334</td>\n",
       "      <td>train_features/ZJ016334.jpg</td>\n",
       "      <td>S0120</td>\n",
       "    </tr>\n",
       "    <tr>\n",
       "      <th>16345</th>\n",
       "      <td>ZJ016345</td>\n",
       "      <td>train_features/ZJ016345.jpg</td>\n",
       "      <td>S0120</td>\n",
       "    </tr>\n",
       "    <tr>\n",
       "      <th>16353</th>\n",
       "      <td>ZJ016353</td>\n",
       "      <td>train_features/ZJ016353.jpg</td>\n",
       "      <td>S0120</td>\n",
       "    </tr>\n",
       "    <tr>\n",
       "      <th>16435</th>\n",
       "      <td>ZJ016435</td>\n",
       "      <td>train_features/ZJ016435.jpg</td>\n",
       "      <td>S0120</td>\n",
       "    </tr>\n",
       "  </tbody>\n",
       "</table>\n",
       "<p>423 rows × 3 columns</p>\n",
       "</div>"
      ],
      "text/plain": [
       "             id                     filepath   site\n",
       "0      ZJ000000  train_features/ZJ000000.jpg  S0120\n",
       "25     ZJ000025  train_features/ZJ000025.jpg  S0120\n",
       "27     ZJ000027  train_features/ZJ000027.jpg  S0120\n",
       "50     ZJ000050  train_features/ZJ000050.jpg  S0120\n",
       "62     ZJ000062  train_features/ZJ000062.jpg  S0120\n",
       "...         ...                          ...    ...\n",
       "16274  ZJ016274  train_features/ZJ016274.jpg  S0120\n",
       "16334  ZJ016334  train_features/ZJ016334.jpg  S0120\n",
       "16345  ZJ016345  train_features/ZJ016345.jpg  S0120\n",
       "16353  ZJ016353  train_features/ZJ016353.jpg  S0120\n",
       "16435  ZJ016435  train_features/ZJ016435.jpg  S0120\n",
       "\n",
       "[423 rows x 3 columns]"
      ]
     },
     "execution_count": 10,
     "metadata": {},
     "output_type": "execute_result"
    }
   ],
   "source": [
    "df_train_features[df_train_features.site == sites[0]]"
   ]
  },
  {
   "cell_type": "code",
   "execution_count": null,
   "metadata": {},
   "outputs": [
    {
     "data": {
      "text/html": [
       "<div>\n",
       "<style scoped>\n",
       "    .dataframe tbody tr th:only-of-type {\n",
       "        vertical-align: middle;\n",
       "    }\n",
       "\n",
       "    .dataframe tbody tr th {\n",
       "        vertical-align: top;\n",
       "    }\n",
       "\n",
       "    .dataframe thead th {\n",
       "        text-align: right;\n",
       "    }\n",
       "</style>\n",
       "<table border=\"1\" class=\"dataframe\">\n",
       "  <thead>\n",
       "    <tr style=\"text-align: right;\">\n",
       "      <th></th>\n",
       "      <th>site</th>\n",
       "      <th>n_shapes_unique</th>\n",
       "      <th>n_images</th>\n",
       "    </tr>\n",
       "  </thead>\n",
       "  <tbody>\n",
       "    <tr>\n",
       "      <th>0</th>\n",
       "      <td>S0120</td>\n",
       "      <td>2</td>\n",
       "      <td>423</td>\n",
       "    </tr>\n",
       "    <tr>\n",
       "      <th>1</th>\n",
       "      <td>S0069</td>\n",
       "      <td>1</td>\n",
       "      <td>217</td>\n",
       "    </tr>\n",
       "    <tr>\n",
       "      <th>2</th>\n",
       "      <td>S0009</td>\n",
       "      <td>2</td>\n",
       "      <td>664</td>\n",
       "    </tr>\n",
       "    <tr>\n",
       "      <th>3</th>\n",
       "      <td>S0008</td>\n",
       "      <td>2</td>\n",
       "      <td>541</td>\n",
       "    </tr>\n",
       "    <tr>\n",
       "      <th>4</th>\n",
       "      <td>S0036</td>\n",
       "      <td>2</td>\n",
       "      <td>456</td>\n",
       "    </tr>\n",
       "    <tr>\n",
       "      <th>...</th>\n",
       "      <td>...</td>\n",
       "      <td>...</td>\n",
       "      <td>...</td>\n",
       "    </tr>\n",
       "    <tr>\n",
       "      <th>143</th>\n",
       "      <td>S0079</td>\n",
       "      <td>1</td>\n",
       "      <td>2</td>\n",
       "    </tr>\n",
       "    <tr>\n",
       "      <th>144</th>\n",
       "      <td>S0178</td>\n",
       "      <td>1</td>\n",
       "      <td>2</td>\n",
       "    </tr>\n",
       "    <tr>\n",
       "      <th>145</th>\n",
       "      <td>S0148</td>\n",
       "      <td>1</td>\n",
       "      <td>7</td>\n",
       "    </tr>\n",
       "    <tr>\n",
       "      <th>146</th>\n",
       "      <td>S0006</td>\n",
       "      <td>2</td>\n",
       "      <td>16</td>\n",
       "    </tr>\n",
       "    <tr>\n",
       "      <th>147</th>\n",
       "      <td>S0143</td>\n",
       "      <td>1</td>\n",
       "      <td>3</td>\n",
       "    </tr>\n",
       "  </tbody>\n",
       "</table>\n",
       "<p>148 rows × 3 columns</p>\n",
       "</div>"
      ],
      "text/plain": [
       "      site  n_shapes_unique  n_images\n",
       "0    S0120                2       423\n",
       "1    S0069                1       217\n",
       "2    S0009                2       664\n",
       "3    S0008                2       541\n",
       "4    S0036                2       456\n",
       "..     ...              ...       ...\n",
       "143  S0079                1         2\n",
       "144  S0178                1         2\n",
       "145  S0148                1         7\n",
       "146  S0006                2        16\n",
       "147  S0143                1         3\n",
       "\n",
       "[148 rows x 3 columns]"
      ]
     },
     "execution_count": 11,
     "metadata": {},
     "output_type": "execute_result"
    }
   ],
   "source": [
    "n_shapes = []\n",
    "site_info = {\"site\":[], \"n_shapes_unique\":[], \"n_images\":[]}  # intitializa site info dict\n",
    "\n",
    "for site in sites:  # iterate over all sites\n",
    "\n",
    "    paths_temp = \"../data/\" + df_train_features[df_train_features[\"site\"] == site][\"filepath\"]  # select all rows with this site, select the filepath column and add the directory hierarchy\n",
    "\n",
    "    images_temp = import_images_from_file_list(paths_temp.to_list())  # read all images for the current site\n",
    "\n",
    "    n_images_temp = len(images_temp)\n",
    "\n",
    "    shapes_temp = [image.shape for image in images_temp]\n",
    "    shapes_temp_unique = pd.Series(shapes_temp).unique()\n",
    "    n_shapes_temp_unique = shapes_temp_unique.shape[0]\n",
    "\n",
    "    site_info[\"site\"].append(site)\n",
    "    site_info[\"n_shapes_unique\"].append(n_shapes_temp_unique)\n",
    "    site_info[\"n_images\"].append(n_images_temp)\n",
    "    # print(f\"site: {site}\")\n",
    "    # print(f\"shapes: {shapes_temp_unique}\")\n",
    "    # print(f\"number of unique shapes: {n_shapes_temp_unique}\")\n",
    "\n",
    "site_info = pd.DataFrame(site_info)\n",
    "site_info"
   ]
  },
  {
   "cell_type": "code",
   "execution_count": null,
   "metadata": {},
   "outputs": [
    {
     "data": {
      "text/html": [
       "<div>\n",
       "<style scoped>\n",
       "    .dataframe tbody tr th:only-of-type {\n",
       "        vertical-align: middle;\n",
       "    }\n",
       "\n",
       "    .dataframe tbody tr th {\n",
       "        vertical-align: top;\n",
       "    }\n",
       "\n",
       "    .dataframe thead th {\n",
       "        text-align: right;\n",
       "    }\n",
       "</style>\n",
       "<table border=\"1\" class=\"dataframe\">\n",
       "  <thead>\n",
       "    <tr style=\"text-align: right;\">\n",
       "      <th></th>\n",
       "      <th>n_shapes_unique</th>\n",
       "      <th>count</th>\n",
       "    </tr>\n",
       "  </thead>\n",
       "  <tbody>\n",
       "    <tr>\n",
       "      <th>0</th>\n",
       "      <td>1</td>\n",
       "      <td>84</td>\n",
       "    </tr>\n",
       "    <tr>\n",
       "      <th>1</th>\n",
       "      <td>2</td>\n",
       "      <td>59</td>\n",
       "    </tr>\n",
       "    <tr>\n",
       "      <th>2</th>\n",
       "      <td>3</td>\n",
       "      <td>5</td>\n",
       "    </tr>\n",
       "  </tbody>\n",
       "</table>\n",
       "</div>"
      ],
      "text/plain": [
       "   n_shapes_unique  count\n",
       "0                1     84\n",
       "1                2     59\n",
       "2                3      5"
      ]
     },
     "execution_count": 12,
     "metadata": {},
     "output_type": "execute_result"
    }
   ],
   "source": [
    "# How many sites pre unique shape number are there?\n",
    "site_info.n_shapes_unique.value_counts().reset_index()"
   ]
  },
  {
   "cell_type": "code",
   "execution_count": null,
   "metadata": {},
   "outputs": [
    {
     "data": {
      "text/html": [
       "<div>\n",
       "<style scoped>\n",
       "    .dataframe tbody tr th:only-of-type {\n",
       "        vertical-align: middle;\n",
       "    }\n",
       "\n",
       "    .dataframe tbody tr th {\n",
       "        vertical-align: top;\n",
       "    }\n",
       "\n",
       "    .dataframe thead th {\n",
       "        text-align: right;\n",
       "    }\n",
       "</style>\n",
       "<table border=\"1\" class=\"dataframe\">\n",
       "  <thead>\n",
       "    <tr style=\"text-align: right;\">\n",
       "      <th></th>\n",
       "      <th>n_shapes_unique</th>\n",
       "      <th>n_images</th>\n",
       "    </tr>\n",
       "  </thead>\n",
       "  <tbody>\n",
       "    <tr>\n",
       "      <th>0</th>\n",
       "      <td>1</td>\n",
       "      <td>5321</td>\n",
       "    </tr>\n",
       "    <tr>\n",
       "      <th>1</th>\n",
       "      <td>2</td>\n",
       "      <td>10838</td>\n",
       "    </tr>\n",
       "    <tr>\n",
       "      <th>2</th>\n",
       "      <td>3</td>\n",
       "      <td>329</td>\n",
       "    </tr>\n",
       "  </tbody>\n",
       "</table>\n",
       "</div>"
      ],
      "text/plain": [
       "   n_shapes_unique  n_images\n",
       "0                1      5321\n",
       "1                2     10838\n",
       "2                3       329"
      ]
     },
     "execution_count": 13,
     "metadata": {},
     "output_type": "execute_result"
    }
   ],
   "source": [
    "# how many images per unique shape are there?\n",
    "site_info.groupby(by=\"n_shapes_unique\")[\"n_images\"].sum().reset_index()"
   ]
  },
  {
   "cell_type": "code",
   "execution_count": null,
   "metadata": {},
   "outputs": [
    {
     "data": {
      "text/html": [
       "<div>\n",
       "<style scoped>\n",
       "    .dataframe tbody tr th:only-of-type {\n",
       "        vertical-align: middle;\n",
       "    }\n",
       "\n",
       "    .dataframe tbody tr th {\n",
       "        vertical-align: top;\n",
       "    }\n",
       "\n",
       "    .dataframe thead th {\n",
       "        text-align: right;\n",
       "    }\n",
       "</style>\n",
       "<table border=\"1\" class=\"dataframe\">\n",
       "  <thead>\n",
       "    <tr style=\"text-align: right;\">\n",
       "      <th></th>\n",
       "      <th>id</th>\n",
       "      <th>filepath</th>\n",
       "      <th>site</th>\n",
       "    </tr>\n",
       "  </thead>\n",
       "  <tbody>\n",
       "    <tr>\n",
       "      <th>0</th>\n",
       "      <td>ZJ000000</td>\n",
       "      <td>train_features/ZJ000000.jpg</td>\n",
       "      <td>S0120</td>\n",
       "    </tr>\n",
       "    <tr>\n",
       "      <th>2</th>\n",
       "      <td>ZJ000002</td>\n",
       "      <td>train_features/ZJ000002.jpg</td>\n",
       "      <td>S0009</td>\n",
       "    </tr>\n",
       "    <tr>\n",
       "      <th>3</th>\n",
       "      <td>ZJ000003</td>\n",
       "      <td>train_features/ZJ000003.jpg</td>\n",
       "      <td>S0008</td>\n",
       "    </tr>\n",
       "    <tr>\n",
       "      <th>4</th>\n",
       "      <td>ZJ000004</td>\n",
       "      <td>train_features/ZJ000004.jpg</td>\n",
       "      <td>S0036</td>\n",
       "    </tr>\n",
       "    <tr>\n",
       "      <th>6</th>\n",
       "      <td>ZJ000006</td>\n",
       "      <td>train_features/ZJ000006.jpg</td>\n",
       "      <td>S0060</td>\n",
       "    </tr>\n",
       "    <tr>\n",
       "      <th>...</th>\n",
       "      <td>...</td>\n",
       "      <td>...</td>\n",
       "      <td>...</td>\n",
       "    </tr>\n",
       "    <tr>\n",
       "      <th>16480</th>\n",
       "      <td>ZJ016480</td>\n",
       "      <td>train_features/ZJ016480.jpg</td>\n",
       "      <td>S0179</td>\n",
       "    </tr>\n",
       "    <tr>\n",
       "      <th>16481</th>\n",
       "      <td>ZJ016481</td>\n",
       "      <td>train_features/ZJ016481.jpg</td>\n",
       "      <td>S0127</td>\n",
       "    </tr>\n",
       "    <tr>\n",
       "      <th>16483</th>\n",
       "      <td>ZJ016483</td>\n",
       "      <td>train_features/ZJ016483.jpg</td>\n",
       "      <td>S0093</td>\n",
       "    </tr>\n",
       "    <tr>\n",
       "      <th>16484</th>\n",
       "      <td>ZJ016484</td>\n",
       "      <td>train_features/ZJ016484.jpg</td>\n",
       "      <td>S0043</td>\n",
       "    </tr>\n",
       "    <tr>\n",
       "      <th>16487</th>\n",
       "      <td>ZJ016487</td>\n",
       "      <td>train_features/ZJ016487.jpg</td>\n",
       "      <td>S0021</td>\n",
       "    </tr>\n",
       "  </tbody>\n",
       "</table>\n",
       "<p>10838 rows × 3 columns</p>\n",
       "</div>"
      ],
      "text/plain": [
       "             id                     filepath   site\n",
       "0      ZJ000000  train_features/ZJ000000.jpg  S0120\n",
       "2      ZJ000002  train_features/ZJ000002.jpg  S0009\n",
       "3      ZJ000003  train_features/ZJ000003.jpg  S0008\n",
       "4      ZJ000004  train_features/ZJ000004.jpg  S0036\n",
       "6      ZJ000006  train_features/ZJ000006.jpg  S0060\n",
       "...         ...                          ...    ...\n",
       "16480  ZJ016480  train_features/ZJ016480.jpg  S0179\n",
       "16481  ZJ016481  train_features/ZJ016481.jpg  S0127\n",
       "16483  ZJ016483  train_features/ZJ016483.jpg  S0093\n",
       "16484  ZJ016484  train_features/ZJ016484.jpg  S0043\n",
       "16487  ZJ016487  train_features/ZJ016487.jpg  S0021\n",
       "\n",
       "[10838 rows x 3 columns]"
      ]
     },
     "execution_count": 14,
     "metadata": {},
     "output_type": "execute_result"
    }
   ],
   "source": [
    "# for the sites with only 2 unique shapes, what shape differences are there?\n",
    "sites__2_shapes = site_info[site_info[\"n_shapes_unique\"]==2][\"site\"].to_list()  # select all sites with 2 unique image shapes\n",
    "\n",
    "df_train_features__2_shapes = df_train_features.query(\"site in @sites__2_shapes\")  # select all data entries with 2 unique shapes\n",
    "df_train_features__2_shapes"
   ]
  },
  {
   "cell_type": "code",
   "execution_count": null,
   "metadata": {},
   "outputs": [
    {
     "ename": "AttributeError",
     "evalue": "'Series' object has no attribute 'append'",
     "output_type": "error",
     "traceback": [
      "\u001b[0;31m---------------------------------------------------------------------------\u001b[0m",
      "\u001b[0;31mAttributeError\u001b[0m                            Traceback (most recent call last)",
      "\u001b[0;32m/var/folders/vg/z5mcy3k171qcx_mqd9slybl00000gn/T/ipykernel_18845/2359988604.py\u001b[0m in \u001b[0;36m?\u001b[0;34m()\u001b[0m\n\u001b[1;32m     12\u001b[0m     \u001b[0mshapes_temp\u001b[0m \u001b[0;34m=\u001b[0m \u001b[0;34m[\u001b[0m\u001b[0mimage\u001b[0m\u001b[0;34m.\u001b[0m\u001b[0mshape\u001b[0m \u001b[0;32mfor\u001b[0m \u001b[0mimage\u001b[0m \u001b[0;32min\u001b[0m \u001b[0mimages_temp\u001b[0m\u001b[0;34m]\u001b[0m\u001b[0;34m\u001b[0m\u001b[0;34m\u001b[0m\u001b[0m\n\u001b[1;32m     13\u001b[0m     \u001b[0mshapes_temp_unique\u001b[0m \u001b[0;34m=\u001b[0m \u001b[0mpd\u001b[0m\u001b[0;34m.\u001b[0m\u001b[0mSeries\u001b[0m\u001b[0;34m(\u001b[0m\u001b[0mshapes_temp\u001b[0m\u001b[0;34m)\u001b[0m\u001b[0;34m.\u001b[0m\u001b[0munique\u001b[0m\u001b[0;34m(\u001b[0m\u001b[0;34m)\u001b[0m\u001b[0;34m\u001b[0m\u001b[0;34m\u001b[0m\u001b[0m\n\u001b[1;32m     14\u001b[0m     \u001b[0mn_shapes_temp_unique\u001b[0m \u001b[0;34m=\u001b[0m \u001b[0mshapes_temp_unique\u001b[0m\u001b[0;34m.\u001b[0m\u001b[0mshape\u001b[0m\u001b[0;34m[\u001b[0m\u001b[0;36m0\u001b[0m\u001b[0;34m]\u001b[0m\u001b[0;34m\u001b[0m\u001b[0;34m\u001b[0m\u001b[0m\n\u001b[1;32m     15\u001b[0m \u001b[0;34m\u001b[0m\u001b[0m\n\u001b[0;32m---> 16\u001b[0;31m     \u001b[0msite_info\u001b[0m\u001b[0;34m[\u001b[0m\u001b[0;34m\"site\"\u001b[0m\u001b[0;34m]\u001b[0m\u001b[0;34m.\u001b[0m\u001b[0mappend\u001b[0m\u001b[0;34m(\u001b[0m\u001b[0msite\u001b[0m\u001b[0;34m)\u001b[0m\u001b[0;34m\u001b[0m\u001b[0;34m\u001b[0m\u001b[0m\n\u001b[0m\u001b[1;32m     17\u001b[0m     \u001b[0msite_info\u001b[0m\u001b[0;34m[\u001b[0m\u001b[0;34m\"n_shapes_unique\"\u001b[0m\u001b[0;34m]\u001b[0m\u001b[0;34m.\u001b[0m\u001b[0mappend\u001b[0m\u001b[0;34m(\u001b[0m\u001b[0mn_shapes_temp_unique\u001b[0m\u001b[0;34m)\u001b[0m\u001b[0;34m\u001b[0m\u001b[0;34m\u001b[0m\u001b[0m\n\u001b[1;32m     18\u001b[0m     \u001b[0msite_info\u001b[0m\u001b[0;34m[\u001b[0m\u001b[0;34m\"n_images\"\u001b[0m\u001b[0;34m]\u001b[0m\u001b[0;34m.\u001b[0m\u001b[0mappend\u001b[0m\u001b[0;34m(\u001b[0m\u001b[0mn_images_temp\u001b[0m\u001b[0;34m)\u001b[0m\u001b[0;34m\u001b[0m\u001b[0;34m\u001b[0m\u001b[0m\n\u001b[1;32m     19\u001b[0m     \u001b[0;31m# print(f\"site: {site}\")\u001b[0m\u001b[0;34m\u001b[0m\u001b[0;34m\u001b[0m\u001b[0m\n",
      "\u001b[0;32m~/neuefische/capstone_project/Project__Wildlife_Images/.venv/lib/python3.11/site-packages/pandas/core/generic.py\u001b[0m in \u001b[0;36m?\u001b[0;34m(self, name)\u001b[0m\n\u001b[1;32m   5985\u001b[0m             \u001b[0;32mand\u001b[0m \u001b[0mname\u001b[0m \u001b[0;32mnot\u001b[0m \u001b[0;32min\u001b[0m \u001b[0mself\u001b[0m\u001b[0;34m.\u001b[0m\u001b[0m_accessors\u001b[0m\u001b[0;34m\u001b[0m\u001b[0;34m\u001b[0m\u001b[0m\n\u001b[1;32m   5986\u001b[0m             \u001b[0;32mand\u001b[0m \u001b[0mself\u001b[0m\u001b[0;34m.\u001b[0m\u001b[0m_info_axis\u001b[0m\u001b[0;34m.\u001b[0m\u001b[0m_can_hold_identifiers_and_holds_name\u001b[0m\u001b[0;34m(\u001b[0m\u001b[0mname\u001b[0m\u001b[0;34m)\u001b[0m\u001b[0;34m\u001b[0m\u001b[0;34m\u001b[0m\u001b[0m\n\u001b[1;32m   5987\u001b[0m         ):\n\u001b[1;32m   5988\u001b[0m             \u001b[0;32mreturn\u001b[0m \u001b[0mself\u001b[0m\u001b[0;34m[\u001b[0m\u001b[0mname\u001b[0m\u001b[0;34m]\u001b[0m\u001b[0;34m\u001b[0m\u001b[0;34m\u001b[0m\u001b[0m\n\u001b[0;32m-> 5989\u001b[0;31m         \u001b[0;32mreturn\u001b[0m \u001b[0mobject\u001b[0m\u001b[0;34m.\u001b[0m\u001b[0m__getattribute__\u001b[0m\u001b[0;34m(\u001b[0m\u001b[0mself\u001b[0m\u001b[0;34m,\u001b[0m \u001b[0mname\u001b[0m\u001b[0;34m)\u001b[0m\u001b[0;34m\u001b[0m\u001b[0;34m\u001b[0m\u001b[0m\n\u001b[0m",
      "\u001b[0;31mAttributeError\u001b[0m: 'Series' object has no attribute 'append'"
     ]
    }
   ],
   "source": [
    "# iterate over the selected sites with 2 unique image shapes and get the shape differences in form of tuples\n",
    "## thereafter \n",
    "\n",
    "for site in sites:  # iterate over all sites\n",
    "\n",
    "    paths_temp = \"../data/\" + df_train_features[df_train_features[\"site\"] == site][\"filepath\"]  # select all rows with this site, select the filepath column and add the directory hierarchy\n",
    "\n",
    "    images_temp = import_images_from_file_list(paths_temp.to_list())  # read all images for the current site\n",
    "\n",
    "    n_images_temp = len(images_temp)\n",
    "\n",
    "    shapes_temp = [image.shape for image in images_temp]\n",
    "    shapes_temp_unique = pd.Series(shapes_temp).unique()\n",
    "    n_shapes_temp_unique = shapes_temp_unique.shape[0]\n",
    "\n",
    "    site_info[\"site\"].append(site)\n",
    "    site_info[\"n_shapes_unique\"].append(n_shapes_temp_unique)\n",
    "    site_info[\"n_images\"].append(n_images_temp)\n",
    "    # print(f\"site: {site}\")\n",
    "    # print(f\"shapes: {shapes_temp_unique}\")\n",
    "    # print(f\"number of unique shapes: {n_shapes_temp_unique}\")"
   ]
  },
  {
   "cell_type": "code",
   "execution_count": null,
   "metadata": {},
   "outputs": [],
   "source": [
    "\n"
   ]
  },
  {
   "cell_type": "markdown",
   "metadata": {},
   "source": [
    "### Checking the image with outlier shape"
   ]
  },
  {
   "cell_type": "code",
   "execution_count": null,
   "metadata": {},
   "outputs": [
    {
     "data": {
      "text/html": [
       "<div>\n",
       "<style scoped>\n",
       "    .dataframe tbody tr th:only-of-type {\n",
       "        vertical-align: middle;\n",
       "    }\n",
       "\n",
       "    .dataframe tbody tr th {\n",
       "        vertical-align: top;\n",
       "    }\n",
       "\n",
       "    .dataframe thead th {\n",
       "        text-align: right;\n",
       "    }\n",
       "</style>\n",
       "<table border=\"1\" class=\"dataframe\">\n",
       "  <thead>\n",
       "    <tr style=\"text-align: right;\">\n",
       "      <th></th>\n",
       "      <th>id</th>\n",
       "      <th>filepath</th>\n",
       "      <th>site</th>\n",
       "      <th>shape</th>\n",
       "    </tr>\n",
       "  </thead>\n",
       "  <tbody>\n",
       "    <tr>\n",
       "      <th>2282</th>\n",
       "      <td>ZJ002282</td>\n",
       "      <td>train_features/ZJ002282.jpg</td>\n",
       "      <td>S0080</td>\n",
       "      <td>(95, 160, 3)</td>\n",
       "    </tr>\n",
       "  </tbody>\n",
       "</table>\n",
       "</div>"
      ],
      "text/plain": [
       "            id                     filepath   site         shape\n",
       "2282  ZJ002282  train_features/ZJ002282.jpg  S0080  (95, 160, 3)"
      ]
     },
     "execution_count": 10,
     "metadata": {},
     "output_type": "execute_result"
    }
   ],
   "source": [
    "df_train_features_extended[df_train_features_extended[\"shape\"]==(95, 160, 3)]"
   ]
  },
  {
   "cell_type": "code",
   "execution_count": null,
   "metadata": {},
   "outputs": [
    {
     "data": {
      "text/plain": [
       "<matplotlib.image.AxesImage at 0x14c94c3d0>"
      ]
     },
     "execution_count": 13,
     "metadata": {},
     "output_type": "execute_result"
    },
    {
     "data": {
      "image/png": "[encoded data removed]",
      "text/plain": [
       "<Figure size 640x480 with 1 Axes>"
      ]
     },
     "metadata": {},
     "output_type": "display_data"
    }
   ],
   "source": [
    "plt.imshow(import_images_from_file_list([\"../data/train_features/ZJ002282.jpg\"])[0])"
   ]
  }
 ],
 "metadata": {
  "kernelspec": {
   "display_name": ".venv",
   "language": "python",
   "name": "python3"
  },
  "language_info": {
   "codemirror_mode": {
    "name": "ipython",
    "version": 3
   },
   "file_extension": ".py",
   "mimetype": "text/x-python",
   "name": "python",
   "nbconvert_exporter": "python",
   "pygments_lexer": "ipython3",
   "version": "3.11.3"
  }
 },
 "nbformat": 4,
 "nbformat_minor": 2
}
